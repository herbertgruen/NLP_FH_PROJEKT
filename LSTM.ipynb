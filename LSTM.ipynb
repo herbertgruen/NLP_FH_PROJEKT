{
 "cells": [
  {
   "cell_type": "code",
   "execution_count": 1,
   "id": "initial_id",
   "metadata": {
    "collapsed": true,
    "ExecuteTime": {
     "end_time": "2024-04-15T12:32:07.522359Z",
     "start_time": "2024-04-15T12:32:02.556567Z"
    }
   },
   "outputs": [],
   "source": [
    "import numpy as np\n",
    "import pandas as pd\n",
    "import seaborn as sns\n",
    "import matplotlib.pyplot as plt\n",
    "import re\n",
    "import tensorflow as tf\n",
    "from sklearn.model_selection import train_test_split\n",
    "from tensorflow.keras.preprocessing.text import Tokenizer\n",
    "from tensorflow.keras.preprocessing.sequence import pad_sequences\n",
    "from tensorflow.keras.models import Sequential\n",
    "from tensorflow.keras.layers import LSTM, Dense, Embedding, SpatialDropout1D, Concatenate, Input\n",
    "from tensorflow.keras.utils import to_categorical\n",
    "from sklearn.preprocessing import LabelEncoder\n",
    "from tensorflow.keras.callbacks import EarlyStopping\n",
    "from tensorflow.keras.models import Model\n",
    "from sklearn.metrics import confusion_matrix, classification_report\n",
    "\n",
    "######## SEED setzen\n",
    "import random\n",
    "# Random Seed setzen:\n",
    "random.seed(49)\n",
    "np.random.seed(49)\n",
    "SEED = 49"
   ]
  },
  {
   "cell_type": "code",
   "outputs": [
    {
     "name": "stdout",
     "output_type": "stream",
     "text": [
      "2.10.0\n",
      "Num GPUs Available:  1\n",
      "[PhysicalDevice(name='/physical_device:CPU:0', device_type='CPU'), PhysicalDevice(name='/physical_device:GPU:0', device_type='GPU')]\n"
     ]
    }
   ],
   "source": [
    "print(tf.__version__)\n",
    "print(\"Num GPUs Available: \", len(tf.config.experimental.list_physical_devices('GPU')))\n",
    "print(tf.config.list_physical_devices())"
   ],
   "metadata": {
    "collapsed": false,
    "ExecuteTime": {
     "end_time": "2024-04-15T12:32:07.632338Z",
     "start_time": "2024-04-15T12:32:07.526363Z"
    }
   },
   "id": "b690582ce9375332",
   "execution_count": 2
  },
  {
   "cell_type": "markdown",
   "source": [
    "### SINGLE LABEL Experiment mit LSTM"
   ],
   "metadata": {
    "collapsed": false
   },
   "id": "4e6e991ad798c170"
  },
  {
   "cell_type": "code",
   "outputs": [
    {
     "data": {
      "text/plain": "   Unnamed: 0                     Titel  \\\n0        1719                I Miss Her   \n1        1766  They Don't Care About Us   \n2        2586      Loved You Right Away   \n3        2627             Goodbye Hello   \n4        2640       Mess In The Freeway   \n\n                                               Lyric           Artist Genres  \n0  oh lord id like know thinks oh oh lord wanna g...           Olodum    Axé  \n1  skin head dead head everybody gone bad situati...           Olodum    Axé  \n2  moment saw minute met wonderful feeling never ...  Carlinhos Brown    Axé  \n3  alone time feel blues way inventions invention...  Carlinhos Brown    Axé  \n4  wanna tell wonderful things wanna tell interes...  Carlinhos Brown    Axé  ",
      "text/html": "<div>\n<style scoped>\n    .dataframe tbody tr th:only-of-type {\n        vertical-align: middle;\n    }\n\n    .dataframe tbody tr th {\n        vertical-align: top;\n    }\n\n    .dataframe thead th {\n        text-align: right;\n    }\n</style>\n<table border=\"1\" class=\"dataframe\">\n  <thead>\n    <tr style=\"text-align: right;\">\n      <th></th>\n      <th>Unnamed: 0</th>\n      <th>Titel</th>\n      <th>Lyric</th>\n      <th>Artist</th>\n      <th>Genres</th>\n    </tr>\n  </thead>\n  <tbody>\n    <tr>\n      <th>0</th>\n      <td>1719</td>\n      <td>I Miss Her</td>\n      <td>oh lord id like know thinks oh oh lord wanna g...</td>\n      <td>Olodum</td>\n      <td>Axé</td>\n    </tr>\n    <tr>\n      <th>1</th>\n      <td>1766</td>\n      <td>They Don't Care About Us</td>\n      <td>skin head dead head everybody gone bad situati...</td>\n      <td>Olodum</td>\n      <td>Axé</td>\n    </tr>\n    <tr>\n      <th>2</th>\n      <td>2586</td>\n      <td>Loved You Right Away</td>\n      <td>moment saw minute met wonderful feeling never ...</td>\n      <td>Carlinhos Brown</td>\n      <td>Axé</td>\n    </tr>\n    <tr>\n      <th>3</th>\n      <td>2627</td>\n      <td>Goodbye Hello</td>\n      <td>alone time feel blues way inventions invention...</td>\n      <td>Carlinhos Brown</td>\n      <td>Axé</td>\n    </tr>\n    <tr>\n      <th>4</th>\n      <td>2640</td>\n      <td>Mess In The Freeway</td>\n      <td>wanna tell wonderful things wanna tell interes...</td>\n      <td>Carlinhos Brown</td>\n      <td>Axé</td>\n    </tr>\n  </tbody>\n</table>\n</div>"
     },
     "execution_count": 3,
     "metadata": {},
     "output_type": "execute_result"
    }
   ],
   "source": [
    "single_lable = pd.read_csv('Preprocess-Data/preprocessed_single_label.csv')\n",
    "single_lable.head()"
   ],
   "metadata": {
    "collapsed": false,
    "ExecuteTime": {
     "end_time": "2024-04-15T12:32:08.388286Z",
     "start_time": "2024-04-15T12:32:07.635340Z"
    }
   },
   "id": "49dddd108e18762b",
   "execution_count": 3
  },
  {
   "cell_type": "code",
   "outputs": [
    {
     "name": "stdout",
     "output_type": "stream",
     "text": [
      "<class 'pandas.core.frame.DataFrame'>\n",
      "RangeIndex: 42760 entries, 0 to 42759\n",
      "Data columns (total 5 columns):\n",
      " #   Column      Non-Null Count  Dtype \n",
      "---  ------      --------------  ----- \n",
      " 0   Unnamed: 0  42760 non-null  int64 \n",
      " 1   Titel       42758 non-null  object\n",
      " 2   Lyric       42758 non-null  object\n",
      " 3   Artist      42760 non-null  object\n",
      " 4   Genres      42760 non-null  object\n",
      "dtypes: int64(1), object(4)\n",
      "memory usage: 1.6+ MB\n"
     ]
    }
   ],
   "source": [
    "single_lable.info()"
   ],
   "metadata": {
    "collapsed": false,
    "ExecuteTime": {
     "end_time": "2024-04-15T12:32:08.435649Z",
     "start_time": "2024-04-15T12:32:08.392291Z"
    }
   },
   "id": "421fc0a3fb34f685",
   "execution_count": 4
  },
  {
   "cell_type": "code",
   "outputs": [],
   "source": [
    "# Entfernen der nicht benötigten Spalte\n",
    "single_data = single_lable.drop(columns=['Unnamed: 0'])\n",
    "\n",
    "single_data['Lyric'] = single_data['Lyric'].astype(str)\n",
    "# Umwandlung aller Texte in Kleinbuchstaben (falls noch nicht geschehen)\n",
    "single_data['Lyric'] = single_data['Lyric'].str.lower()"
   ],
   "metadata": {
    "collapsed": false,
    "ExecuteTime": {
     "end_time": "2024-04-15T12:32:08.546641Z",
     "start_time": "2024-04-15T12:32:08.445648Z"
    }
   },
   "id": "734d267f1bd42151",
   "execution_count": 5
  },
  {
   "cell_type": "code",
   "outputs": [
    {
     "data": {
      "text/plain": "                  Titel                                              Lyric  \\\n7               At Last  last love come along lonely days life like son...   \n8   I'd Rather Go Blind  something told saw talking something deep soul...   \n9        Stormy Weather  dont know theres sun sky stormy weather since ...   \n10            W-O-M-A-N  talkin man always ready go comes movin babe yo...   \n11         Oh Happy Day  oh happy day oh happy day oh happy day oh happ...   \n\n        Artist Genres  \n7   Etta James  Blues  \n8   Etta James  Blues  \n9   Etta James  Blues  \n10  Etta James  Blues  \n11  Etta James  Blues  ",
      "text/html": "<div>\n<style scoped>\n    .dataframe tbody tr th:only-of-type {\n        vertical-align: middle;\n    }\n\n    .dataframe tbody tr th {\n        vertical-align: top;\n    }\n\n    .dataframe thead th {\n        text-align: right;\n    }\n</style>\n<table border=\"1\" class=\"dataframe\">\n  <thead>\n    <tr style=\"text-align: right;\">\n      <th></th>\n      <th>Titel</th>\n      <th>Lyric</th>\n      <th>Artist</th>\n      <th>Genres</th>\n    </tr>\n  </thead>\n  <tbody>\n    <tr>\n      <th>7</th>\n      <td>At Last</td>\n      <td>last love come along lonely days life like son...</td>\n      <td>Etta James</td>\n      <td>Blues</td>\n    </tr>\n    <tr>\n      <th>8</th>\n      <td>I'd Rather Go Blind</td>\n      <td>something told saw talking something deep soul...</td>\n      <td>Etta James</td>\n      <td>Blues</td>\n    </tr>\n    <tr>\n      <th>9</th>\n      <td>Stormy Weather</td>\n      <td>dont know theres sun sky stormy weather since ...</td>\n      <td>Etta James</td>\n      <td>Blues</td>\n    </tr>\n    <tr>\n      <th>10</th>\n      <td>W-O-M-A-N</td>\n      <td>talkin man always ready go comes movin babe yo...</td>\n      <td>Etta James</td>\n      <td>Blues</td>\n    </tr>\n    <tr>\n      <th>11</th>\n      <td>Oh Happy Day</td>\n      <td>oh happy day oh happy day oh happy day oh happ...</td>\n      <td>Etta James</td>\n      <td>Blues</td>\n    </tr>\n  </tbody>\n</table>\n</div>"
     },
     "execution_count": 6,
     "metadata": {},
     "output_type": "execute_result"
    }
   ],
   "source": [
    "# Identifizieren der meist vorkommenden Genres\n",
    "top_genres = single_data['Genres'].value_counts().nlargest(5).index\n",
    "# genres = ['Gospel/Religioso', 'Jazz', 'Pop/Rock', 'Rock', 'Pop', 'Rap', 'Punk Rock']\n",
    "genres = ['Gospel/Religioso', 'Blues', 'Heavy Metal', 'Rap', 'Jazz'] \n",
    "filtered_data = single_data[single_data['Genres'].isin(genres)]\n",
    "\n",
    "filtered_data.head()"
   ],
   "metadata": {
    "collapsed": false,
    "ExecuteTime": {
     "end_time": "2024-04-15T12:32:08.593639Z",
     "start_time": "2024-04-15T12:32:08.549639Z"
    }
   },
   "id": "fae4c85b24b8b0f6",
   "execution_count": 6
  },
  {
   "cell_type": "code",
   "outputs": [
    {
     "name": "stderr",
     "output_type": "stream",
     "text": [
      "C:\\Users\\Leo\\AppData\\Local\\Temp\\ipykernel_4896\\215376383.py:2: SettingWithCopyWarning: \n",
      "A value is trying to be set on a copy of a slice from a DataFrame.\n",
      "Try using .loc[row_indexer,col_indexer] = value instead\n",
      "\n",
      "See the caveats in the documentation: https://pandas.pydata.org/pandas-docs/stable/user_guide/indexing.html#returning-a-view-versus-a-copy\n",
      "  filtered_data['word_count'] = filtered_data['Lyric'].apply(lambda x: len(x.split()))\n",
      "C:\\Users\\Leo\\AppData\\Local\\Temp\\ipykernel_4896\\215376383.py:3: SettingWithCopyWarning: \n",
      "A value is trying to be set on a copy of a slice from a DataFrame.\n",
      "Try using .loc[row_indexer,col_indexer] = value instead\n",
      "\n",
      "See the caveats in the documentation: https://pandas.pydata.org/pandas-docs/stable/user_guide/indexing.html#returning-a-view-versus-a-copy\n",
      "  filtered_data['avg_word_length'] = filtered_data['Lyric'].apply(lambda x: sum(len(word) for word in x.split()) / len(x.split()) if x.split() else 0)\n",
      "C:\\Users\\Leo\\AppData\\Local\\Temp\\ipykernel_4896\\215376383.py:4: SettingWithCopyWarning: \n",
      "A value is trying to be set on a copy of a slice from a DataFrame.\n",
      "Try using .loc[row_indexer,col_indexer] = value instead\n",
      "\n",
      "See the caveats in the documentation: https://pandas.pydata.org/pandas-docs/stable/user_guide/indexing.html#returning-a-view-versus-a-copy\n",
      "  filtered_data['unique_words'] = filtered_data['Lyric'].apply(lambda x: len(set(x.split())))\n"
     ]
    }
   ],
   "source": [
    "# Feature-Extraktion\n",
    "filtered_data['word_count'] = filtered_data['Lyric'].apply(lambda x: len(x.split()))\n",
    "filtered_data['avg_word_length'] = filtered_data['Lyric'].apply(lambda x: sum(len(word) for word in x.split()) / len(x.split()) if x.split() else 0)\n",
    "filtered_data['unique_words'] = filtered_data['Lyric'].apply(lambda x: len(set(x.split())))"
   ],
   "metadata": {
    "collapsed": false,
    "ExecuteTime": {
     "end_time": "2024-04-15T12:32:09.828547Z",
     "start_time": "2024-04-15T12:32:08.596640Z"
    }
   },
   "id": "977799420731a7bb",
   "execution_count": 7
  },
  {
   "cell_type": "code",
   "outputs": [
    {
     "name": "stderr",
     "output_type": "stream",
     "text": [
      "C:\\Users\\Leo\\AppData\\Local\\Temp\\ipykernel_4896\\3848746753.py:3: SettingWithCopyWarning: \n",
      "A value is trying to be set on a copy of a slice from a DataFrame.\n",
      "Try using .loc[row_indexer,col_indexer] = value instead\n",
      "\n",
      "See the caveats in the documentation: https://pandas.pydata.org/pandas-docs/stable/user_guide/indexing.html#returning-a-view-versus-a-copy\n",
      "  filtered_data['Genres'] = encoder.fit_transform(filtered_data['Genres'])\n"
     ]
    }
   ],
   "source": [
    "# Vorbereitung der Labels\n",
    "encoder = LabelEncoder()\n",
    "filtered_data['Genres'] = encoder.fit_transform(filtered_data['Genres'])\n",
    "labels = to_categorical(filtered_data['Genres'])"
   ],
   "metadata": {
    "collapsed": false,
    "ExecuteTime": {
     "end_time": "2024-04-15T12:32:09.844547Z",
     "start_time": "2024-04-15T12:32:09.830547Z"
    }
   },
   "id": "817cd30ea0886d79",
   "execution_count": 8
  },
  {
   "cell_type": "code",
   "outputs": [],
   "source": [
    "# # Aufteilen der Daten in Trainings- und Testsets\n",
    "# train_data, test_data = train_test_split(filtered_data, test_size=0.2, random_state=SEED)\n",
    "\n",
    "# Aufteilen der Daten in Trainings-, Validierungs- und Testsets\n",
    "train_data, test_data = train_test_split(filtered_data, test_size=0.2, random_state=SEED)\n",
    "train_data, val_data = train_test_split(train_data, test_size=0.25, random_state=SEED)  # 0.25 * 0.8 = 0.2"
   ],
   "metadata": {
    "collapsed": false,
    "ExecuteTime": {
     "end_time": "2024-04-15T12:32:09.875544Z",
     "start_time": "2024-04-15T12:32:09.847550Z"
    }
   },
   "id": "ed565ad31981ea23",
   "execution_count": 9
  },
  {
   "cell_type": "code",
   "outputs": [
    {
     "name": "stdout",
     "output_type": "stream",
     "text": [
      "complete: 10256\n",
      "train size: 6153\n",
      "val size: 2051\n",
      "test size: 2052\n"
     ]
    }
   ],
   "source": [
    "print('complete:',len(filtered_data))\n",
    "print('train size:',len(train_data))\n",
    "print('val size:', len(val_data))\n",
    "print('test size:',len(test_data))"
   ],
   "metadata": {
    "collapsed": false,
    "ExecuteTime": {
     "end_time": "2024-04-15T12:32:09.891541Z",
     "start_time": "2024-04-15T12:32:09.878544Z"
    }
   },
   "id": "1a61981ab1376f18",
   "execution_count": 10
  },
  {
   "cell_type": "code",
   "outputs": [],
   "source": [
    "# Tokenizer vorbereiten und Texte zu Sequenzen umwandeln\n",
    "tokenizer = Tokenizer()\n",
    "tokenizer.fit_on_texts(train_data['Lyric'])\n",
    "train_sequences = tokenizer.texts_to_sequences(train_data['Lyric'])\n",
    "val_sequences = tokenizer.texts_to_sequences(val_data['Lyric'])\n",
    "test_sequences = tokenizer.texts_to_sequences(test_data['Lyric'])"
   ],
   "metadata": {
    "collapsed": false,
    "ExecuteTime": {
     "end_time": "2024-04-15T12:32:12.300252Z",
     "start_time": "2024-04-15T12:32:09.893542Z"
    }
   },
   "id": "f70ad4ad62f2858c",
   "execution_count": 11
  },
  {
   "cell_type": "code",
   "outputs": [
    {
     "name": "stdout",
     "output_type": "stream",
     "text": [
      "[122, 2211, 8318, 13281, 72, 1520, 2297, 2147, 16292, 10053, 862, 316, 361, 295, 251, 21703, 3487, 13282, 958, 1520, 2297, 2147, 16292]\n"
     ]
    }
   ],
   "source": [
    "print(train_sequences[0])"
   ],
   "metadata": {
    "collapsed": false,
    "ExecuteTime": {
     "end_time": "2024-04-15T12:32:12.316010Z",
     "start_time": "2024-04-15T12:32:12.303253Z"
    }
   },
   "id": "640ac1be267c191c",
   "execution_count": 12
  },
  {
   "cell_type": "code",
   "outputs": [],
   "source": [
    "# Padding der Sequenzen, damit sie die gleiche Länge haben\n",
    "max_length = max(train_data['word_count'].max(), val_data['word_count'].max(), test_data['word_count'].max())\n",
    "train_padded = pad_sequences(train_sequences, maxlen=max_length)\n",
    "val_padded = pad_sequences(val_sequences, maxlen=max_length)\n",
    "test_padded = pad_sequences(test_sequences, maxlen=max_length)"
   ],
   "metadata": {
    "collapsed": false,
    "ExecuteTime": {
     "end_time": "2024-04-15T12:32:12.521546Z",
     "start_time": "2024-04-15T12:32:12.319007Z"
    }
   },
   "id": "3abdea14811dacb0",
   "execution_count": 13
  },
  {
   "cell_type": "code",
   "outputs": [],
   "source": [
    "# Feature-Matrix\n",
    "train_features = train_data[['word_count', 'avg_word_length', 'unique_words']].values\n",
    "val_features = val_data[['word_count', 'avg_word_length', 'unique_words']].values\n",
    "test_features = test_data[['word_count', 'avg_word_length', 'unique_words']].values"
   ],
   "metadata": {
    "collapsed": false,
    "ExecuteTime": {
     "end_time": "2024-04-15T12:32:12.553547Z",
     "start_time": "2024-04-15T12:32:12.528549Z"
    }
   },
   "id": "568089b3c7c7b7f7",
   "execution_count": 14
  },
  {
   "cell_type": "code",
   "outputs": [],
   "source": [
    "from tensorflow.keras.utils import to_categorical\n",
    "\n",
    "# Kodiere die Labels in One-Hot-Format\n",
    "train_labels = to_categorical(train_data['Genres'])\n",
    "val_labels = to_categorical(val_data['Genres'])\n",
    "test_labels = to_categorical(test_data['Genres'])"
   ],
   "metadata": {
    "collapsed": false,
    "ExecuteTime": {
     "end_time": "2024-04-15T12:32:12.569548Z",
     "start_time": "2024-04-15T12:32:12.556548Z"
    }
   },
   "id": "26e402da663671f5",
   "execution_count": 15
  },
  {
   "cell_type": "code",
   "outputs": [],
   "source": [
    "# # Labels kodieren\n",
    "# encoder = LabelEncoder()\n",
    "# encoder.fit(train_data['Genres'])\n",
    "# train_labels = encoder.transform(train_data['Genres'])\n",
    "# test_labels = encoder.transform(test_data['Genres'])"
   ],
   "metadata": {
    "collapsed": false,
    "ExecuteTime": {
     "end_time": "2024-04-15T12:32:12.585544Z",
     "start_time": "2024-04-15T12:32:12.571547Z"
    }
   },
   "id": "b977dfda2a86d7cc",
   "execution_count": 16
  },
  {
   "cell_type": "code",
   "outputs": [],
   "source": [
    "# # Labels zu Kategorien konvertieren\n",
    "# train_labels = to_categorical(train_labels)\n",
    "# test_labels = to_categorical(test_labels)"
   ],
   "metadata": {
    "collapsed": false,
    "ExecuteTime": {
     "end_time": "2024-04-15T12:32:12.601545Z",
     "start_time": "2024-04-15T12:32:12.588546Z"
    }
   },
   "id": "f104b765210e945e",
   "execution_count": 17
  },
  {
   "cell_type": "code",
   "outputs": [],
   "source": [
    "# LSTM Modell\n",
    "input_text = Input(shape=(max_length,))\n",
    "input_features = Input(shape=(3,))\n",
    "embedded_text = Embedding(input_dim=len(tokenizer.word_index) + 1, output_dim=100)(input_text)\n",
    "lstm_out = LSTM(100)(embedded_text)\n",
    "concatenated = Concatenate()([lstm_out, input_features])\n",
    "output = Dense(units=labels.shape[1], activation='softmax')(concatenated)\n",
    "model = Model(inputs=[input_text, input_features], outputs=output)"
   ],
   "metadata": {
    "collapsed": false,
    "ExecuteTime": {
     "end_time": "2024-04-15T12:32:14.201452Z",
     "start_time": "2024-04-15T12:32:12.604544Z"
    }
   },
   "id": "d81be86d7c4aee64",
   "execution_count": 18
  },
  {
   "cell_type": "code",
   "outputs": [],
   "source": [
    "# # LSTM-Modell definieren\n",
    "# model = Sequential()\n",
    "# model.add(Embedding(input_dim=len(tokenizer.word_index) + 1, output_dim=100, input_length=max_length))\n",
    "# model.add(SpatialDropout1D(0.2))\n",
    "# model.add(LSTM(100, dropout=0.2, recurrent_dropout=0.2))\n",
    "# model.add(Dense(units=train_labels.shape[1], activation='softmax'))"
   ],
   "metadata": {
    "collapsed": false,
    "ExecuteTime": {
     "end_time": "2024-04-15T12:32:14.217451Z",
     "start_time": "2024-04-15T12:32:14.203455Z"
    }
   },
   "id": "86b7f0462f9c642a",
   "execution_count": 19
  },
  {
   "cell_type": "code",
   "outputs": [],
   "source": [
    "# Kompilieren \n",
    "model.compile(optimizer='adam', loss='categorical_crossentropy', metrics=['accuracy'])\n",
    "early_stopping = EarlyStopping(monitor='val_loss', patience=2, verbose=1)"
   ],
   "metadata": {
    "collapsed": false,
    "ExecuteTime": {
     "end_time": "2024-04-15T12:32:14.249449Z",
     "start_time": "2024-04-15T12:32:14.219452Z"
    }
   },
   "id": "cfbfb90a4f87e5b1",
   "execution_count": 20
  },
  {
   "cell_type": "code",
   "outputs": [],
   "source": [
    "# Modell kompilieren\n",
    "# EarlyStopping Callback definieren\n",
    "# early_stopping = EarlyStopping(monitor='val_loss', patience=2, verbose=1)\n",
    "# model.compile(loss='categorical_crossentropy', optimizer='adam', metrics=['accuracy'])"
   ],
   "metadata": {
    "collapsed": false,
    "ExecuteTime": {
     "end_time": "2024-04-15T12:32:14.265448Z",
     "start_time": "2024-04-15T12:32:14.252452Z"
    }
   },
   "id": "2f27053841d78d1f",
   "execution_count": 21
  },
  {
   "cell_type": "code",
   "outputs": [
    {
     "name": "stdout",
     "output_type": "stream",
     "text": [
      "Epoch 1/10\n",
      "193/193 [==============================] - 23s 94ms/step - loss: 3.5454 - accuracy: 0.4739 - val_loss: 1.8537 - val_accuracy: 0.5441\n",
      "Epoch 2/10\n",
      "193/193 [==============================] - 18s 91ms/step - loss: 1.5263 - accuracy: 0.5614 - val_loss: 1.3600 - val_accuracy: 0.5909\n",
      "Epoch 3/10\n",
      "193/193 [==============================] - 16s 85ms/step - loss: 1.0033 - accuracy: 0.6847 - val_loss: 1.0491 - val_accuracy: 0.6982\n",
      "Epoch 4/10\n",
      "193/193 [==============================] - 17s 85ms/step - loss: 0.6720 - accuracy: 0.7947 - val_loss: 0.7725 - val_accuracy: 0.7645\n",
      "Epoch 5/10\n",
      "193/193 [==============================] - 16s 85ms/step - loss: 0.3686 - accuracy: 0.8861 - val_loss: 0.7197 - val_accuracy: 0.7928\n",
      "Epoch 6/10\n",
      "193/193 [==============================] - 17s 87ms/step - loss: 0.2375 - accuracy: 0.9265 - val_loss: 0.7035 - val_accuracy: 0.7996\n",
      "Epoch 7/10\n",
      "193/193 [==============================] - 17s 88ms/step - loss: 0.1638 - accuracy: 0.9504 - val_loss: 0.7089 - val_accuracy: 0.8020\n",
      "Epoch 8/10\n",
      "193/193 [==============================] - 17s 89ms/step - loss: 0.1185 - accuracy: 0.9651 - val_loss: 0.7380 - val_accuracy: 0.8191\n",
      "Epoch 8: early stopping\n"
     ]
    }
   ],
   "source": [
    "# Modell trainieren\n",
    "# history = model.fit(train_padded, train_labels, epochs=10, validation_data=(test_padded, test_labels), verbose=1, callbacks=[early_stopping])\n",
    "history = model.fit([train_padded, train_features], train_labels, \n",
    "          validation_data=([val_padded, val_features], val_labels), \n",
    "          epochs=10, batch_size=32, callbacks=[early_stopping])"
   ],
   "metadata": {
    "collapsed": false,
    "ExecuteTime": {
     "end_time": "2024-04-15T12:34:35.142649Z",
     "start_time": "2024-04-15T12:32:14.268452Z"
    }
   },
   "id": "79d50ac50e776811",
   "execution_count": 22
  },
  {
   "cell_type": "code",
   "outputs": [],
   "source": [
    "# Helper function to plot the history of a model\n",
    "def plot_history(history):\n",
    "    print(history.history.keys())\n",
    "    epochs = range(1, len(history.history['accuracy']) + 1)\n",
    "    # summarize history for accuracy\n",
    "    plt.plot(epochs, history.history['accuracy'], 'o-', label='Training accuracy')\n",
    "    plt.plot(epochs, history.history['val_accuracy'], 'o-', label='Validation accuracy')\n",
    "    plt.title('Model accuracy')\n",
    "    plt.xlabel('Epoch')\n",
    "    plt.ylabel('Accuracy')\n",
    "    plt.xticks(epochs)\n",
    "    plt.legend(loc='upper left')\n",
    "    plt.show()\n",
    "    # summarize history for loss, start from second epoch, cause the first is always too high\n",
    "    plt.plot(epochs[1:], history.history['loss'][1:], 'o-', label='Training loss')\n",
    "    plt.plot(epochs[1:], history.history['val_loss'][1:], 'o-', label='Validation loss')\n",
    "    plt.title('Model loss')\n",
    "    plt.xlabel('Epoch')\n",
    "    plt.ylabel('Loss')\n",
    "    plt.xticks(epochs[1:])  # Adjust x-axis to start from second epoch\n",
    "    plt.legend(loc='upper left')\n",
    "    plt.show()"
   ],
   "metadata": {
    "collapsed": false,
    "ExecuteTime": {
     "end_time": "2024-04-15T12:34:35.172526Z",
     "start_time": "2024-04-15T12:34:35.145653Z"
    }
   },
   "id": "d60c1b9b53109ada",
   "execution_count": 23
  },
  {
   "cell_type": "code",
   "outputs": [
    {
     "name": "stdout",
     "output_type": "stream",
     "text": [
      "dict_keys(['loss', 'accuracy', 'val_loss', 'val_accuracy'])\n"
     ]
    },
    {
     "data": {
      "text/plain": "<Figure size 640x480 with 1 Axes>",
      "image/png": "[encoded data removed]"
     },
     "metadata": {},
     "output_type": "display_data"
    },
    {
     "data": {
      "text/plain": "<Figure size 640x480 with 1 Axes>",
      "image/png": "[encoded data removed]"
     },
     "metadata": {},
     "output_type": "display_data"
    }
   ],
   "source": [
    "plot_history(history)"
   ],
   "metadata": {
    "collapsed": false,
    "ExecuteTime": {
     "end_time": "2024-04-15T12:34:36.027528Z",
     "start_time": "2024-04-15T12:34:35.175528Z"
    }
   },
   "id": "8aadaa62609629e1",
   "execution_count": 24
  },
  {
   "cell_type": "code",
   "outputs": [
    {
     "name": "stdout",
     "output_type": "stream",
     "text": [
      "65/65 [==============================] - 2s 36ms/step - loss: 0.7087 - accuracy: 0.8182\n",
      "Test Accuracy: 81.82%\n",
      "Test Loss: 0.7087\n"
     ]
    }
   ],
   "source": [
    "# loss, accuracy = model.evaluate(test_padded, test_labels, verbose=1)\n",
    "test_loss, test_accuracy = model.evaluate([test_padded, test_features], test_labels)\n",
    "print(f\"Test Accuracy: {test_accuracy*100:.2f}%\")\n",
    "print(f\"Test Loss: {test_loss:.4f}\")"
   ],
   "metadata": {
    "collapsed": false,
    "ExecuteTime": {
     "end_time": "2024-04-15T12:34:38.519633Z",
     "start_time": "2024-04-15T12:34:36.031523Z"
    }
   },
   "id": "18ae193d4aff935e",
   "execution_count": 25
  },
  {
   "cell_type": "code",
   "outputs": [
    {
     "name": "stdout",
     "output_type": "stream",
     "text": [
      "65/65 [==============================] - 3s 34ms/step\n"
     ]
    }
   ],
   "source": [
    "# predictions = model.predict(test_padded)\n",
    "# predicted_labels = predictions.argmax(axis=1)  # Umwandlung der One-Hot-Encoded-Vorhersagen in Label-Indizes\n",
    "\n",
    "# Vorhersagen machen\n",
    "predictions = model.predict([test_padded, test_features])\n",
    "predicted_labels = predictions.argmax(axis=1)\n",
    "\n",
    "# Echte Labels für Vergleich\n",
    "true_labels = test_data['Genres'].values"
   ],
   "metadata": {
    "collapsed": false,
    "ExecuteTime": {
     "end_time": "2024-04-15T12:34:41.502444Z",
     "start_time": "2024-04-15T12:34:38.522633Z"
    }
   },
   "id": "c9b24fc0f5767906",
   "execution_count": 26
  },
  {
   "cell_type": "code",
   "outputs": [
    {
     "data": {
      "text/plain": "<Figure size 1000x800 with 2 Axes>",
      "image/png": "[encoded data removed]"
     },
     "metadata": {},
     "output_type": "display_data"
    }
   ],
   "source": [
    "\n",
    "# true_labels = test_labels.argmax(axis=1)  # Umwandlung der tatsächlichen One-Hot-Encoded-Labels in Label-Indizes\n",
    "cm = confusion_matrix(true_labels, predicted_labels)\n",
    "\n",
    "# Konfusionsmatrix plotten\n",
    "plt.figure(figsize=(10, 8))\n",
    "sns.heatmap(cm, annot=True, fmt='d', cmap='Blues', xticklabels=encoder.classes_, yticklabels=encoder.classes_)\n",
    "plt.title('Confusion Matrix')\n",
    "plt.xlabel('Predicted Labels')\n",
    "plt.ylabel('True Labels')\n",
    "plt.show()"
   ],
   "metadata": {
    "collapsed": false,
    "ExecuteTime": {
     "end_time": "2024-04-15T12:34:42.024485Z",
     "start_time": "2024-04-15T12:34:41.504450Z"
    }
   },
   "id": "29a38f7d7e4077db",
   "execution_count": 27
  },
  {
   "cell_type": "code",
   "outputs": [
    {
     "name": "stdout",
     "output_type": "stream",
     "text": [
      "                  precision    recall  f1-score   support\n",
      "\n",
      "           Blues       0.63      0.64      0.64       225\n",
      "Gospel/Religioso       0.82      0.78      0.80       299\n",
      "     Heavy Metal       0.85      0.90      0.88       847\n",
      "            Jazz       0.75      0.66      0.70       270\n",
      "             Rap       0.88      0.88      0.88       411\n",
      "\n",
      "        accuracy                           0.82      2052\n",
      "       macro avg       0.79      0.77      0.78      2052\n",
      "    weighted avg       0.82      0.82      0.82      2052\n"
     ]
    }
   ],
   "source": [
    "report = classification_report(true_labels, predicted_labels, target_names=encoder.classes_)\n",
    "print(report)"
   ],
   "metadata": {
    "collapsed": false,
    "ExecuteTime": {
     "end_time": "2024-04-15T12:34:42.055796Z",
     "start_time": "2024-04-15T12:34:42.027486Z"
    }
   },
   "id": "1e141c2a1354f3a0",
   "execution_count": 28
  },
  {
   "cell_type": "code",
   "outputs": [
    {
     "name": "stdout",
     "output_type": "stream",
     "text": [
      "Lyric: verse qtip brother brother brother lucien youre li...\n",
      "Predicted Genre: Rap, True Genre: Rap\n",
      "\n",
      "Lyric: ridenhour shocklee sadler bammm say goddamn dope j...\n",
      "Predicted Genre: Rap, True Genre: Rap\n",
      "\n",
      "Lyric: intro word yknowhutimsayin gotta globe world mail ...\n",
      "Predicted Genre: Rap, True Genre: Rap\n",
      "\n",
      "Lyric: coup dètat military force hundreds dead disappear ...\n",
      "Predicted Genre: Heavy Metal, True Genre: Heavy Metal\n",
      "\n",
      "Lyric: oh long long may december days grow short reach se...\n",
      "Predicted Genre: Jazz, True Genre: Jazz\n",
      "\n",
      "Lyric: moon river wider mile im crossing style day oh dre...\n",
      "Predicted Genre: Jazz, True Genre: Jazz\n",
      "\n",
      "Lyric: holy uncreated one beauty fills skies glory majest...\n",
      "Predicted Genre: Gospel/Religioso, True Genre: Gospel/Religioso\n",
      "\n",
      "Lyric: dont know love til youve learned meaning blues you...\n",
      "Predicted Genre: Jazz, True Genre: Jazz\n",
      "\n",
      "Lyric: verse one soon la stepped floor people started hol...\n",
      "Predicted Genre: Rap, True Genre: Rap\n",
      "\n",
      "Lyric: ah yeah wanna send one jeep lovers worldwide city ...\n",
      "Predicted Genre: Rap, True Genre: Rap\n"
     ]
    }
   ],
   "source": [
    "# sample_texts = test_data['Lyric'].iloc[:10]  # Auswahl einiger Beispielsongtexte\n",
    "# sample_labels = test_labels[:10]\n",
    "# sample_predictions = model.predict(pad_sequences(tokenizer.texts_to_sequences(sample_texts), maxlen=max_length))\n",
    "# \n",
    "# for i, text in enumerate(sample_texts):\n",
    "#     true_label = encoder.classes_[sample_labels[i].argmax()]\n",
    "#     predicted_label = encoder.classes_[sample_predictions[i].argmax()]\n",
    "#     print(f\"Lyric: {text[:50]}... \\nTrue Genre: {true_label}, Predicted Genre: {predicted_label}\\n\")\n",
    "\n",
    "# Optional: Ausgabe einiger Vorhersagen\n",
    "for i in range(10):  # Anzeigen von 10 Vorhersagen\n",
    "    print(f\"Lyric: {test_data['Lyric'].iloc[i][:50]}...\")  # Zeige ersten 50 Zeichen des Lyrics\n",
    "    print(f\"Predicted Genre: {encoder.inverse_transform([predicted_labels[i]])[0]}, True Genre: {encoder.inverse_transform([true_labels[i]])[0]}\\n\")"
   ],
   "metadata": {
    "collapsed": false,
    "ExecuteTime": {
     "end_time": "2024-04-15T12:34:42.087792Z",
     "start_time": "2024-04-15T12:34:42.057796Z"
    }
   },
   "id": "7b7b6c624dfc8abc",
   "execution_count": 29
  }
 ],
 "metadata": {
  "kernelspec": {
   "display_name": "Python 3",
   "language": "python",
   "name": "python3"
  },
  "language_info": {
   "codemirror_mode": {
    "name": "ipython",
    "version": 2
   },
   "file_extension": ".py",
   "mimetype": "text/x-python",
   "name": "python",
   "nbconvert_exporter": "python",
   "pygments_lexer": "ipython2",
   "version": "2.7.6"
  }
 },
 "nbformat": 4,
 "nbformat_minor": 5
}
