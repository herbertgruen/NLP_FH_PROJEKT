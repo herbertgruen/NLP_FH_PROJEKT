{
 "cells": [
  {
   "cell_type": "markdown",
   "metadata": {},
   "source": [
    "Übersetzen\n",
    "To-Dos (Preprocessing):\n",
    "0. removed duplicate songs\n",
    "1. Contractions (I'm -> I am) \n",
    "2. Tokenisierung (NLKT, Gensim, spaCy)\n",
    "3. Spelling Correction\n",
    "4. POS-Tagging\n",
    "5. Stemming / Lemmatisierung (mit Spacy)\n",
    "6. Lowercasing\n",
    "7. Balance Data - Sprich dass alle Labels gleich viel Daten haben\n",
    "8. word order??\n",
    "\n",
    "\n",
    "Word2Vec and Word2Vec with TFID\n",
    "\n",
    "To-Dos (EDA):\n",
    "- Schaue Folie\n",
    "1. analyzed word counts (Only 27 of the rock words and 10 of the pop words out of the 300 most frequently appearing words\n",
    "for those genres were unique to those genres, suggesting that a bag-of-words embedding or a machine\n",
    "learning model that didn’t utilize the order of the words would not be very effective.)\n",
    "\n",
    "- Plots (This plots the words and their respective counts in the pop genre that are not part of the\n",
    "top 300 words for hip hop or rock.)\n",
    "\n",
    "To-Dos (Feature Engineering):\n",
    "-  One-Hot Encoding (Sätze)\n",
    "- Bag-of-Words (BoW) (ist eine Methode zur Darstellung von Textdaten in numerischer Form)\n",
    "- N-Grams\n",
    "- TF-IDF (statistische Methode zur Bewertung der Wichtigkeit eines Wortes)\n",
    "- Cosine Similarity – Wortähnlichkeiten berechnen\n",
    "- Embeeding mit (Word2Vec,GloVe,fastText )\n"
   ]
  },
  {
   "cell_type": "markdown",
   "metadata": {},
   "source": [
    "## Imports"
   ]
  },
  {
   "cell_type": "code",
   "execution_count": 49,
   "metadata": {},
   "outputs": [
    {
     "name": "stdout",
     "output_type": "stream",
     "text": [
      "Requirement already satisfied: absl-py==2.1.0 in c:\\users\\ivan\\miniconda3\\envs\\nlp\\lib\\site-packages (from -r requirements.txt (line 1)) (2.1.0)\n",
      "Requirement already satisfied: asttokens==2.4.1 in c:\\users\\ivan\\miniconda3\\envs\\nlp\\lib\\site-packages (from -r requirements.txt (line 2)) (2.4.1)\n",
      "Requirement already satisfied: astunparse==1.6.3 in c:\\users\\ivan\\miniconda3\\envs\\nlp\\lib\\site-packages (from -r requirements.txt (line 3)) (1.6.3)\n",
      "Requirement already satisfied: certifi==2024.2.2 in c:\\users\\ivan\\miniconda3\\envs\\nlp\\lib\\site-packages (from -r requirements.txt (line 4)) (2024.2.2)\n",
      "Requirement already satisfied: charset-normalizer==3.3.2 in c:\\users\\ivan\\miniconda3\\envs\\nlp\\lib\\site-packages (from -r requirements.txt (line 5)) (3.3.2)\n",
      "Requirement already satisfied: click==8.1.7 in c:\\users\\ivan\\miniconda3\\envs\\nlp\\lib\\site-packages (from -r requirements.txt (line 6)) (8.1.7)\n",
      "Requirement already satisfied: contourpy==1.2.1 in c:\\users\\ivan\\miniconda3\\envs\\nlp\\lib\\site-packages (from -r requirements.txt (line 7)) (1.2.1)\n",
      "Requirement already satisfied: cycler==0.12.1 in c:\\users\\ivan\\miniconda3\\envs\\nlp\\lib\\site-packages (from -r requirements.txt (line 8)) (0.12.1)\n",
      "Requirement already satisfied: flatbuffers==24.3.25 in c:\\users\\ivan\\miniconda3\\envs\\nlp\\lib\\site-packages (from -r requirements.txt (line 9)) (24.3.25)\n",
      "Requirement already satisfied: fonttools==4.51.0 in c:\\users\\ivan\\miniconda3\\envs\\nlp\\lib\\site-packages (from -r requirements.txt (line 10)) (4.51.0)\n",
      "Requirement already satisfied: gast==0.5.4 in c:\\users\\ivan\\miniconda3\\envs\\nlp\\lib\\site-packages (from -r requirements.txt (line 11)) (0.5.4)\n",
      "Requirement already satisfied: google-pasta==0.2.0 in c:\\users\\ivan\\miniconda3\\envs\\nlp\\lib\\site-packages (from -r requirements.txt (line 12)) (0.2.0)\n",
      "Requirement already satisfied: grpcio==1.62.1 in c:\\users\\ivan\\miniconda3\\envs\\nlp\\lib\\site-packages (from -r requirements.txt (line 13)) (1.62.1)\n",
      "Requirement already satisfied: h5py==3.11.0 in c:\\users\\ivan\\miniconda3\\envs\\nlp\\lib\\site-packages (from -r requirements.txt (line 14)) (3.11.0)\n",
      "Requirement already satisfied: idna==3.7 in c:\\users\\ivan\\miniconda3\\envs\\nlp\\lib\\site-packages (from -r requirements.txt (line 15)) (3.7)\n",
      "Requirement already satisfied: joblib==1.4.0 in c:\\users\\ivan\\miniconda3\\envs\\nlp\\lib\\site-packages (from -r requirements.txt (line 16)) (1.4.0)\n",
      "Requirement already satisfied: keras==3.2.1 in c:\\users\\ivan\\miniconda3\\envs\\nlp\\lib\\site-packages (from -r requirements.txt (line 17)) (3.2.1)\n",
      "Requirement already satisfied: kiwisolver==1.4.5 in c:\\users\\ivan\\miniconda3\\envs\\nlp\\lib\\site-packages (from -r requirements.txt (line 18)) (1.4.5)\n",
      "Requirement already satisfied: libclang==18.1.1 in c:\\users\\ivan\\miniconda3\\envs\\nlp\\lib\\site-packages (from -r requirements.txt (line 19)) (18.1.1)\n",
      "Requirement already satisfied: markdown==3.6 in c:\\users\\ivan\\miniconda3\\envs\\nlp\\lib\\site-packages (from -r requirements.txt (line 20)) (3.6)\n",
      "Requirement already satisfied: markdown-it-py==3.0.0 in c:\\users\\ivan\\miniconda3\\envs\\nlp\\lib\\site-packages (from -r requirements.txt (line 21)) (3.0.0)\n",
      "Requirement already satisfied: markupsafe==2.1.5 in c:\\users\\ivan\\miniconda3\\envs\\nlp\\lib\\site-packages (from -r requirements.txt (line 22)) (2.1.5)\n",
      "Requirement already satisfied: matplotlib==3.8.4 in c:\\users\\ivan\\miniconda3\\envs\\nlp\\lib\\site-packages (from -r requirements.txt (line 23)) (3.8.4)\n",
      "Requirement already satisfied: mdurl==0.1.2 in c:\\users\\ivan\\miniconda3\\envs\\nlp\\lib\\site-packages (from -r requirements.txt (line 24)) (0.1.2)\n",
      "Requirement already satisfied: ml-dtypes==0.3.2 in c:\\users\\ivan\\miniconda3\\envs\\nlp\\lib\\site-packages (from -r requirements.txt (line 25)) (0.3.2)\n",
      "Requirement already satisfied: namex==0.0.7 in c:\\users\\ivan\\miniconda3\\envs\\nlp\\lib\\site-packages (from -r requirements.txt (line 26)) (0.0.7)\n",
      "Requirement already satisfied: nltk==3.8.1 in c:\\users\\ivan\\miniconda3\\envs\\nlp\\lib\\site-packages (from -r requirements.txt (line 27)) (3.8.1)\n",
      "Requirement already satisfied: numpy==1.26.4 in c:\\users\\ivan\\miniconda3\\envs\\nlp\\lib\\site-packages (from -r requirements.txt (line 28)) (1.26.4)\n",
      "Requirement already satisfied: opt-einsum==3.3.0 in c:\\users\\ivan\\miniconda3\\envs\\nlp\\lib\\site-packages (from -r requirements.txt (line 29)) (3.3.0)\n",
      "Requirement already satisfied: optree==0.11.0 in c:\\users\\ivan\\miniconda3\\envs\\nlp\\lib\\site-packages (from -r requirements.txt (line 30)) (0.11.0)\n",
      "Requirement already satisfied: pandas==2.2.2 in c:\\users\\ivan\\miniconda3\\envs\\nlp\\lib\\site-packages (from -r requirements.txt (line 31)) (2.2.2)\n",
      "Requirement already satisfied: pillow==10.3.0 in c:\\users\\ivan\\miniconda3\\envs\\nlp\\lib\\site-packages (from -r requirements.txt (line 32)) (10.3.0)\n",
      "Requirement already satisfied: protobuf==4.25.3 in c:\\users\\ivan\\miniconda3\\envs\\nlp\\lib\\site-packages (from -r requirements.txt (line 33)) (4.25.3)\n",
      "Requirement already satisfied: psutil==5.9.0 in c:\\users\\ivan\\miniconda3\\envs\\nlp\\lib\\site-packages (from -r requirements.txt (line 34)) (5.9.0)\n",
      "Requirement already satisfied: pyparsing==3.1.2 in c:\\users\\ivan\\miniconda3\\envs\\nlp\\lib\\site-packages (from -r requirements.txt (line 35)) (3.1.2)\n",
      "Requirement already satisfied: python-dateutil==2.9.0.post0 in c:\\users\\ivan\\miniconda3\\envs\\nlp\\lib\\site-packages (from -r requirements.txt (line 36)) (2.9.0.post0)\n",
      "Requirement already satisfied: pytz==2024.1 in c:\\users\\ivan\\miniconda3\\envs\\nlp\\lib\\site-packages (from -r requirements.txt (line 37)) (2024.1)\n",
      "Requirement already satisfied: regex==2023.12.25 in c:\\users\\ivan\\miniconda3\\envs\\nlp\\lib\\site-packages (from -r requirements.txt (line 38)) (2023.12.25)\n",
      "Requirement already satisfied: requests==2.31.0 in c:\\users\\ivan\\miniconda3\\envs\\nlp\\lib\\site-packages (from -r requirements.txt (line 39)) (2.31.0)\n",
      "Requirement already satisfied: rich==13.7.1 in c:\\users\\ivan\\miniconda3\\envs\\nlp\\lib\\site-packages (from -r requirements.txt (line 40)) (13.7.1)\n",
      "Requirement already satisfied: scikit-learn==1.4.2 in c:\\users\\ivan\\miniconda3\\envs\\nlp\\lib\\site-packages (from -r requirements.txt (line 41)) (1.4.2)\n",
      "Requirement already satisfied: scipy==1.13.0 in c:\\users\\ivan\\miniconda3\\envs\\nlp\\lib\\site-packages (from -r requirements.txt (line 42)) (1.13.0)\n",
      "Requirement already satisfied: seaborn==0.13.2 in c:\\users\\ivan\\miniconda3\\envs\\nlp\\lib\\site-packages (from -r requirements.txt (line 43)) (0.13.2)\n",
      "Requirement already satisfied: six==1.16.0 in c:\\users\\ivan\\miniconda3\\envs\\nlp\\lib\\site-packages (from -r requirements.txt (line 44)) (1.16.0)\n",
      "Requirement already satisfied: tensorboard==2.16.2 in c:\\users\\ivan\\miniconda3\\envs\\nlp\\lib\\site-packages (from -r requirements.txt (line 45)) (2.16.2)\n",
      "Requirement already satisfied: tensorboard-data-server==0.7.2 in c:\\users\\ivan\\miniconda3\\envs\\nlp\\lib\\site-packages (from -r requirements.txt (line 46)) (0.7.2)\n",
      "Requirement already satisfied: tensorflow==2.16.1 in c:\\users\\ivan\\miniconda3\\envs\\nlp\\lib\\site-packages (from -r requirements.txt (line 47)) (2.16.1)\n",
      "Requirement already satisfied: tensorflow-intel==2.16.1 in c:\\users\\ivan\\miniconda3\\envs\\nlp\\lib\\site-packages (from -r requirements.txt (line 48)) (2.16.1)\n",
      "Requirement already satisfied: termcolor==2.4.0 in c:\\users\\ivan\\miniconda3\\envs\\nlp\\lib\\site-packages (from -r requirements.txt (line 49)) (2.4.0)\n",
      "Requirement already satisfied: threadpoolctl==3.4.0 in c:\\users\\ivan\\miniconda3\\envs\\nlp\\lib\\site-packages (from -r requirements.txt (line 50)) (3.4.0)\n",
      "Requirement already satisfied: tornado==6.3.3 in c:\\users\\ivan\\miniconda3\\envs\\nlp\\lib\\site-packages (from -r requirements.txt (line 51)) (6.3.3)\n",
      "Requirement already satisfied: tqdm==4.66.2 in c:\\users\\ivan\\miniconda3\\envs\\nlp\\lib\\site-packages (from -r requirements.txt (line 52)) (4.66.2)\n",
      "Requirement already satisfied: typing-extensions==4.11.0 in c:\\users\\ivan\\miniconda3\\envs\\nlp\\lib\\site-packages (from -r requirements.txt (line 53)) (4.11.0)\n",
      "Requirement already satisfied: urllib3==2.2.1 in c:\\users\\ivan\\miniconda3\\envs\\nlp\\lib\\site-packages (from -r requirements.txt (line 54)) (2.2.1)\n",
      "Requirement already satisfied: werkzeug==3.0.2 in c:\\users\\ivan\\miniconda3\\envs\\nlp\\lib\\site-packages (from -r requirements.txt (line 55)) (3.0.2)\n",
      "Requirement already satisfied: wheel==0.41.2 in c:\\users\\ivan\\miniconda3\\envs\\nlp\\lib\\site-packages (from -r requirements.txt (line 56)) (0.41.2)\n",
      "Requirement already satisfied: wordcloud==1.9.3 in c:\\users\\ivan\\miniconda3\\envs\\nlp\\lib\\site-packages (from -r requirements.txt (line 57)) (1.9.3)\n",
      "Requirement already satisfied: wrapt==1.16.0 in c:\\users\\ivan\\miniconda3\\envs\\nlp\\lib\\site-packages (from -r requirements.txt (line 58)) (1.16.0)\n",
      "Requirement already satisfied: colorama in c:\\users\\ivan\\miniconda3\\envs\\nlp\\lib\\site-packages (from click==8.1.7->-r requirements.txt (line 6)) (0.4.6)\n",
      "Requirement already satisfied: packaging>=20.0 in c:\\users\\ivan\\miniconda3\\envs\\nlp\\lib\\site-packages (from matplotlib==3.8.4->-r requirements.txt (line 23)) (24.0)\n",
      "Requirement already satisfied: tzdata>=2022.7 in c:\\users\\ivan\\miniconda3\\envs\\nlp\\lib\\site-packages (from pandas==2.2.2->-r requirements.txt (line 31)) (2024.1)\n",
      "Requirement already satisfied: pygments<3.0.0,>=2.13.0 in c:\\users\\ivan\\miniconda3\\envs\\nlp\\lib\\site-packages (from rich==13.7.1->-r requirements.txt (line 40)) (2.17.2)\n",
      "Requirement already satisfied: setuptools>=41.0.0 in c:\\users\\ivan\\miniconda3\\envs\\nlp\\lib\\site-packages (from tensorboard==2.16.2->-r requirements.txt (line 45)) (68.2.2)\n",
      "Note: you may need to restart the kernel to use updated packages.\n"
     ]
    }
   ],
   "source": [
    "%pip install -r requirements.txt\n",
    "# Load, explore and plot data\n",
    "import numpy as np\n",
    "import pandas as pd\n",
    "import seaborn as sns\n",
    "import matplotlib.pyplot as plt\n",
    "\n",
    "import nltk\n",
    "from nltk.corpus import stopwords\n",
    "import re\n",
    "\n",
    "######## SEED setzen\n",
    "import random\n",
    "# Random Seed setzen:\n",
    "random.seed(49)\n",
    "np.random.seed(49)\n",
    "SEED = 49"
   ]
  },
  {
   "cell_type": "markdown",
   "metadata": {},
   "source": [
    "## Load Data"
   ]
  },
  {
   "cell_type": "markdown",
   "metadata": {},
   "source": [
    "### Dataset 1"
   ]
  },
  {
   "cell_type": "code",
   "execution_count": 50,
   "metadata": {},
   "outputs": [
    {
     "data": {
      "text/html": [
       "<div>\n",
       "<style scoped>\n",
       "    .dataframe tbody tr th:only-of-type {\n",
       "        vertical-align: middle;\n",
       "    }\n",
       "\n",
       "    .dataframe tbody tr th {\n",
       "        vertical-align: top;\n",
       "    }\n",
       "\n",
       "    .dataframe thead th {\n",
       "        text-align: right;\n",
       "    }\n",
       "</style>\n",
       "<table border=\"1\" class=\"dataframe\">\n",
       "  <thead>\n",
       "    <tr style=\"text-align: right;\">\n",
       "      <th></th>\n",
       "      <th>Unnamed: 0</th>\n",
       "      <th>Titel</th>\n",
       "      <th>Lyric</th>\n",
       "      <th>Artist</th>\n",
       "      <th>Genres</th>\n",
       "    </tr>\n",
       "  </thead>\n",
       "  <tbody>\n",
       "    <tr>\n",
       "      <th>0</th>\n",
       "      <td>1719</td>\n",
       "      <td>I Miss Her</td>\n",
       "      <td>oh lord id like know thinks oh oh lord wanna g...</td>\n",
       "      <td>Olodum</td>\n",
       "      <td>Axé</td>\n",
       "    </tr>\n",
       "    <tr>\n",
       "      <th>1</th>\n",
       "      <td>1766</td>\n",
       "      <td>They Don't Care About Us</td>\n",
       "      <td>skin head dead head everybody gone bad situati...</td>\n",
       "      <td>Olodum</td>\n",
       "      <td>Axé</td>\n",
       "    </tr>\n",
       "  </tbody>\n",
       "</table>\n",
       "</div>"
      ],
      "text/plain": [
       "   Unnamed: 0                     Titel  \\\n",
       "0        1719                I Miss Her   \n",
       "1        1766  They Don't Care About Us   \n",
       "\n",
       "                                               Lyric  Artist Genres  \n",
       "0  oh lord id like know thinks oh oh lord wanna g...  Olodum    Axé  \n",
       "1  skin head dead head everybody gone bad situati...  Olodum    Axé  "
      ]
     },
     "execution_count": 50,
     "metadata": {},
     "output_type": "execute_result"
    }
   ],
   "source": [
    "df_single_label = pd.read_csv('preprocessed_single_label.csv')\n",
    "df_single_label.head(2)"
   ]
  },
  {
   "cell_type": "code",
   "execution_count": 51,
   "metadata": {},
   "outputs": [
    {
     "name": "stdout",
     "output_type": "stream",
     "text": [
      "<class 'pandas.core.frame.DataFrame'>\n",
      "RangeIndex: 42760 entries, 0 to 42759\n",
      "Data columns (total 4 columns):\n",
      " #   Column  Non-Null Count  Dtype \n",
      "---  ------  --------------  ----- \n",
      " 0   Titel   42758 non-null  object\n",
      " 1   Lyric   42758 non-null  object\n",
      " 2   Artist  42760 non-null  object\n",
      " 3   Genres  42760 non-null  object\n",
      "dtypes: object(4)\n",
      "memory usage: 1.3+ MB\n"
     ]
    }
   ],
   "source": [
    "df_single_label.drop(\"Unnamed: 0\", axis=1, inplace=True)\n",
    "df_single_label.info()"
   ]
  },
  {
   "cell_type": "code",
   "execution_count": 52,
   "metadata": {},
   "outputs": [
    {
     "data": {
      "text/plain": [
       "Titel     2\n",
       "Lyric     2\n",
       "Artist    0\n",
       "Genres    0\n",
       "dtype: int64"
      ]
     },
     "execution_count": 52,
     "metadata": {},
     "output_type": "execute_result"
    }
   ],
   "source": [
    "df_single_label.isna().sum()"
   ]
  },
  {
   "cell_type": "code",
   "execution_count": 53,
   "metadata": {},
   "outputs": [
    {
     "data": {
      "text/plain": [
       "Titel     2\n",
       "Lyric     0\n",
       "Artist    0\n",
       "Genres    0\n",
       "dtype: int64"
      ]
     },
     "execution_count": 53,
     "metadata": {},
     "output_type": "execute_result"
    }
   ],
   "source": [
    "df_single_label = df_single_label.dropna(subset=['Lyric'])\n",
    "df_single_label.isna().sum()"
   ]
  },
  {
   "cell_type": "markdown",
   "metadata": {},
   "source": [
    "### Dataset 2"
   ]
  },
  {
   "cell_type": "code",
   "execution_count": 54,
   "metadata": {},
   "outputs": [
    {
     "data": {
      "text/html": [
       "<div>\n",
       "<style scoped>\n",
       "    .dataframe tbody tr th:only-of-type {\n",
       "        vertical-align: middle;\n",
       "    }\n",
       "\n",
       "    .dataframe tbody tr th {\n",
       "        vertical-align: top;\n",
       "    }\n",
       "\n",
       "    .dataframe thead th {\n",
       "        text-align: right;\n",
       "    }\n",
       "</style>\n",
       "<table border=\"1\" class=\"dataframe\">\n",
       "  <thead>\n",
       "    <tr style=\"text-align: right;\">\n",
       "      <th></th>\n",
       "      <th>Unnamed: 0</th>\n",
       "      <th>Titel</th>\n",
       "      <th>Lyric</th>\n",
       "      <th>Artist</th>\n",
       "      <th>Genres</th>\n",
       "    </tr>\n",
       "  </thead>\n",
       "  <tbody>\n",
       "    <tr>\n",
       "      <th>0</th>\n",
       "      <td>69</td>\n",
       "      <td>Careless Whisper</td>\n",
       "      <td>feel unsure take hand lead dance floor music d...</td>\n",
       "      <td>Ivete Sangalo</td>\n",
       "      <td>Pop</td>\n",
       "    </tr>\n",
       "    <tr>\n",
       "      <th>1</th>\n",
       "      <td>69</td>\n",
       "      <td>Careless Whisper</td>\n",
       "      <td>feel unsure take hand lead dance floor music d...</td>\n",
       "      <td>Ivete Sangalo</td>\n",
       "      <td>Axé</td>\n",
       "    </tr>\n",
       "  </tbody>\n",
       "</table>\n",
       "</div>"
      ],
      "text/plain": [
       "   Unnamed: 0             Titel  \\\n",
       "0          69  Careless Whisper   \n",
       "1          69  Careless Whisper   \n",
       "\n",
       "                                               Lyric         Artist Genres  \n",
       "0  feel unsure take hand lead dance floor music d...  Ivete Sangalo    Pop  \n",
       "1  feel unsure take hand lead dance floor music d...  Ivete Sangalo    Axé  "
      ]
     },
     "execution_count": 54,
     "metadata": {},
     "output_type": "execute_result"
    }
   ],
   "source": [
    "df_split_label = pd.read_csv('preprocessed_split_label.csv')\n",
    "df_split_label.head(2)"
   ]
  },
  {
   "cell_type": "code",
   "execution_count": 55,
   "metadata": {},
   "outputs": [
    {
     "name": "stdout",
     "output_type": "stream",
     "text": [
      "<class 'pandas.core.frame.DataFrame'>\n",
      "RangeIndex: 481895 entries, 0 to 481894\n",
      "Data columns (total 4 columns):\n",
      " #   Column  Non-Null Count   Dtype \n",
      "---  ------  --------------   ----- \n",
      " 0   Titel   481893 non-null  object\n",
      " 1   Lyric   481890 non-null  object\n",
      " 2   Artist  481895 non-null  object\n",
      " 3   Genres  481895 non-null  object\n",
      "dtypes: object(4)\n",
      "memory usage: 14.7+ MB\n"
     ]
    }
   ],
   "source": [
    "df_split_label.drop(\"Unnamed: 0\", axis=1, inplace=True)\n",
    "df_split_label.info()"
   ]
  },
  {
   "cell_type": "code",
   "execution_count": 56,
   "metadata": {},
   "outputs": [
    {
     "data": {
      "text/plain": [
       "Titel     2\n",
       "Lyric     5\n",
       "Artist    0\n",
       "Genres    0\n",
       "dtype: int64"
      ]
     },
     "execution_count": 56,
     "metadata": {},
     "output_type": "execute_result"
    }
   ],
   "source": [
    "df_split_label.isna().sum()"
   ]
  },
  {
   "cell_type": "code",
   "execution_count": 57,
   "metadata": {},
   "outputs": [
    {
     "data": {
      "text/plain": [
       "Titel     2\n",
       "Lyric     0\n",
       "Artist    0\n",
       "Genres    0\n",
       "dtype: int64"
      ]
     },
     "execution_count": 57,
     "metadata": {},
     "output_type": "execute_result"
    }
   ],
   "source": [
    "df_split_label = df_split_label.dropna(subset=['Lyric'])\n",
    "df_split_label.isna().sum()"
   ]
  },
  {
   "cell_type": "markdown",
   "metadata": {},
   "source": [
    "## EDA"
   ]
  },
  {
   "cell_type": "markdown",
   "metadata": {},
   "source": [
    "### Dataset 1"
   ]
  },
  {
   "cell_type": "markdown",
   "metadata": {},
   "source": [
    "Lyric Count Variable:"
   ]
  },
  {
   "cell_type": "code",
   "execution_count": 58,
   "metadata": {},
   "outputs": [
    {
     "data": {
      "text/html": [
       "<div>\n",
       "<style scoped>\n",
       "    .dataframe tbody tr th:only-of-type {\n",
       "        vertical-align: middle;\n",
       "    }\n",
       "\n",
       "    .dataframe tbody tr th {\n",
       "        vertical-align: top;\n",
       "    }\n",
       "\n",
       "    .dataframe thead th {\n",
       "        text-align: right;\n",
       "    }\n",
       "</style>\n",
       "<table border=\"1\" class=\"dataframe\">\n",
       "  <thead>\n",
       "    <tr style=\"text-align: right;\">\n",
       "      <th></th>\n",
       "      <th>Titel</th>\n",
       "      <th>Lyric</th>\n",
       "      <th>Artist</th>\n",
       "      <th>Genres</th>\n",
       "      <th>Lyric_count</th>\n",
       "    </tr>\n",
       "  </thead>\n",
       "  <tbody>\n",
       "    <tr>\n",
       "      <th>0</th>\n",
       "      <td>I Miss Her</td>\n",
       "      <td>oh lord id like know thinks oh oh lord wanna g...</td>\n",
       "      <td>Olodum</td>\n",
       "      <td>Axé</td>\n",
       "      <td>63</td>\n",
       "    </tr>\n",
       "    <tr>\n",
       "      <th>1</th>\n",
       "      <td>They Don't Care About Us</td>\n",
       "      <td>skin head dead head everybody gone bad situati...</td>\n",
       "      <td>Olodum</td>\n",
       "      <td>Axé</td>\n",
       "      <td>265</td>\n",
       "    </tr>\n",
       "  </tbody>\n",
       "</table>\n",
       "</div>"
      ],
      "text/plain": [
       "                      Titel  \\\n",
       "0                I Miss Her   \n",
       "1  They Don't Care About Us   \n",
       "\n",
       "                                               Lyric  Artist Genres  \\\n",
       "0  oh lord id like know thinks oh oh lord wanna g...  Olodum    Axé   \n",
       "1  skin head dead head everybody gone bad situati...  Olodum    Axé   \n",
       "\n",
       "   Lyric_count  \n",
       "0           63  \n",
       "1          265  "
      ]
     },
     "execution_count": 58,
     "metadata": {},
     "output_type": "execute_result"
    }
   ],
   "source": [
    "df_single_label['Lyric_count'] = df_single_label['Lyric'].map(lambda x: len(x.split()))\n",
    "df_single_label.head(2)"
   ]
  },
  {
   "cell_type": "markdown",
   "metadata": {},
   "source": [
    "Normalisieren der Lyrics fürs plotting"
   ]
  },
  {
   "cell_type": "code",
   "execution_count": 59,
   "metadata": {},
   "outputs": [
    {
     "data": {
      "text/html": [
       "<div>\n",
       "<style scoped>\n",
       "    .dataframe tbody tr th:only-of-type {\n",
       "        vertical-align: middle;\n",
       "    }\n",
       "\n",
       "    .dataframe tbody tr th {\n",
       "        vertical-align: top;\n",
       "    }\n",
       "\n",
       "    .dataframe thead th {\n",
       "        text-align: right;\n",
       "    }\n",
       "</style>\n",
       "<table border=\"1\" class=\"dataframe\">\n",
       "  <thead>\n",
       "    <tr style=\"text-align: right;\">\n",
       "      <th></th>\n",
       "      <th>Titel</th>\n",
       "      <th>Lyric</th>\n",
       "      <th>Artist</th>\n",
       "      <th>Genres</th>\n",
       "      <th>Lyric_count</th>\n",
       "      <th>Count_norm</th>\n",
       "    </tr>\n",
       "  </thead>\n",
       "  <tbody>\n",
       "    <tr>\n",
       "      <th>0</th>\n",
       "      <td>I Miss Her</td>\n",
       "      <td>oh lord id like know thinks oh oh lord wanna g...</td>\n",
       "      <td>Olodum</td>\n",
       "      <td>Axé</td>\n",
       "      <td>63</td>\n",
       "      <td>2.547794</td>\n",
       "    </tr>\n",
       "    <tr>\n",
       "      <th>1</th>\n",
       "      <td>They Don't Care About Us</td>\n",
       "      <td>skin head dead head everybody gone bad situati...</td>\n",
       "      <td>Olodum</td>\n",
       "      <td>Axé</td>\n",
       "      <td>265</td>\n",
       "      <td>10.716912</td>\n",
       "    </tr>\n",
       "  </tbody>\n",
       "</table>\n",
       "</div>"
      ],
      "text/plain": [
       "                      Titel  \\\n",
       "0                I Miss Her   \n",
       "1  They Don't Care About Us   \n",
       "\n",
       "                                               Lyric  Artist Genres  \\\n",
       "0  oh lord id like know thinks oh oh lord wanna g...  Olodum    Axé   \n",
       "1  skin head dead head everybody gone bad situati...  Olodum    Axé   \n",
       "\n",
       "   Lyric_count  Count_norm  \n",
       "0           63    2.547794  \n",
       "1          265   10.716912  "
      ]
     },
     "execution_count": 59,
     "metadata": {},
     "output_type": "execute_result"
    }
   ],
   "source": [
    "df_single_label['Count_norm'] = df_single_label['Lyric_count'] / df_single_label['Lyric_count'].max()\n",
    "df_single_label['Count_norm'] = df_single_label['Count_norm'].map(lambda x: x*55)\n",
    "df_single_label.head(2)"
   ]
  },
  {
   "cell_type": "markdown",
   "metadata": {},
   "source": [
    "### Dataset 2"
   ]
  },
  {
   "cell_type": "code",
   "execution_count": 60,
   "metadata": {},
   "outputs": [
    {
     "data": {
      "text/html": [
       "<div>\n",
       "<style scoped>\n",
       "    .dataframe tbody tr th:only-of-type {\n",
       "        vertical-align: middle;\n",
       "    }\n",
       "\n",
       "    .dataframe tbody tr th {\n",
       "        vertical-align: top;\n",
       "    }\n",
       "\n",
       "    .dataframe thead th {\n",
       "        text-align: right;\n",
       "    }\n",
       "</style>\n",
       "<table border=\"1\" class=\"dataframe\">\n",
       "  <thead>\n",
       "    <tr style=\"text-align: right;\">\n",
       "      <th></th>\n",
       "      <th>Titel</th>\n",
       "      <th>Lyric</th>\n",
       "      <th>Artist</th>\n",
       "      <th>Genres</th>\n",
       "      <th>Lyric_count</th>\n",
       "    </tr>\n",
       "  </thead>\n",
       "  <tbody>\n",
       "    <tr>\n",
       "      <th>0</th>\n",
       "      <td>Careless Whisper</td>\n",
       "      <td>feel unsure take hand lead dance floor music d...</td>\n",
       "      <td>Ivete Sangalo</td>\n",
       "      <td>Pop</td>\n",
       "      <td>164</td>\n",
       "    </tr>\n",
       "    <tr>\n",
       "      <th>1</th>\n",
       "      <td>Careless Whisper</td>\n",
       "      <td>feel unsure take hand lead dance floor music d...</td>\n",
       "      <td>Ivete Sangalo</td>\n",
       "      <td>Axé</td>\n",
       "      <td>164</td>\n",
       "    </tr>\n",
       "  </tbody>\n",
       "</table>\n",
       "</div>"
      ],
      "text/plain": [
       "              Titel                                              Lyric  \\\n",
       "0  Careless Whisper  feel unsure take hand lead dance floor music d...   \n",
       "1  Careless Whisper  feel unsure take hand lead dance floor music d...   \n",
       "\n",
       "          Artist Genres  Lyric_count  \n",
       "0  Ivete Sangalo    Pop          164  \n",
       "1  Ivete Sangalo    Axé          164  "
      ]
     },
     "execution_count": 60,
     "metadata": {},
     "output_type": "execute_result"
    }
   ],
   "source": [
    "df_split_label['Lyric_count'] = df_split_label['Lyric'].map(lambda x: len(x.split()))\n",
    "df_split_label.head(2)"
   ]
  },
  {
   "cell_type": "code",
   "execution_count": 61,
   "metadata": {},
   "outputs": [
    {
     "data": {
      "text/html": [
       "<div>\n",
       "<style scoped>\n",
       "    .dataframe tbody tr th:only-of-type {\n",
       "        vertical-align: middle;\n",
       "    }\n",
       "\n",
       "    .dataframe tbody tr th {\n",
       "        vertical-align: top;\n",
       "    }\n",
       "\n",
       "    .dataframe thead th {\n",
       "        text-align: right;\n",
       "    }\n",
       "</style>\n",
       "<table border=\"1\" class=\"dataframe\">\n",
       "  <thead>\n",
       "    <tr style=\"text-align: right;\">\n",
       "      <th></th>\n",
       "      <th>Titel</th>\n",
       "      <th>Lyric</th>\n",
       "      <th>Artist</th>\n",
       "      <th>Genres</th>\n",
       "      <th>Lyric_count</th>\n",
       "      <th>Count_norm</th>\n",
       "    </tr>\n",
       "  </thead>\n",
       "  <tbody>\n",
       "    <tr>\n",
       "      <th>0</th>\n",
       "      <td>Careless Whisper</td>\n",
       "      <td>feel unsure take hand lead dance floor music d...</td>\n",
       "      <td>Ivete Sangalo</td>\n",
       "      <td>Pop</td>\n",
       "      <td>164</td>\n",
       "      <td>3.653301</td>\n",
       "    </tr>\n",
       "    <tr>\n",
       "      <th>1</th>\n",
       "      <td>Careless Whisper</td>\n",
       "      <td>feel unsure take hand lead dance floor music d...</td>\n",
       "      <td>Ivete Sangalo</td>\n",
       "      <td>Axé</td>\n",
       "      <td>164</td>\n",
       "      <td>3.653301</td>\n",
       "    </tr>\n",
       "  </tbody>\n",
       "</table>\n",
       "</div>"
      ],
      "text/plain": [
       "              Titel                                              Lyric  \\\n",
       "0  Careless Whisper  feel unsure take hand lead dance floor music d...   \n",
       "1  Careless Whisper  feel unsure take hand lead dance floor music d...   \n",
       "\n",
       "          Artist Genres  Lyric_count  Count_norm  \n",
       "0  Ivete Sangalo    Pop          164    3.653301  \n",
       "1  Ivete Sangalo    Axé          164    3.653301  "
      ]
     },
     "execution_count": 61,
     "metadata": {},
     "output_type": "execute_result"
    }
   ],
   "source": [
    "df_split_label['Count_norm'] = df_split_label['Lyric_count'] / df_split_label['Lyric_count'].max()\n",
    "df_split_label['Count_norm'] = df_split_label['Count_norm'].map(lambda x: x*55)\n",
    "df_split_label.head(2)"
   ]
  }
 ],
 "metadata": {
  "kernelspec": {
   "display_name": "Python 3",
   "language": "python",
   "name": "python3"
  },
  "language_info": {
   "codemirror_mode": {
    "name": "ipython",
    "version": 3
   },
   "file_extension": ".py",
   "mimetype": "text/x-python",
   "name": "python",
   "nbconvert_exporter": "python",
   "pygments_lexer": "ipython3",
   "version": "3.12.2"
  }
 },
 "nbformat": 4,
 "nbformat_minor": 2
}
