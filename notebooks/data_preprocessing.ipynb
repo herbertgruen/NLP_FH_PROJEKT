{
 "cells": [
  {
   "cell_type": "markdown",
   "metadata": {},
   "source": [
    "## Imports"
   ]
  },
  {
   "cell_type": "code",
   "execution_count": 2,
   "metadata": {},
   "outputs": [
    {
     "name": "stdout",
     "output_type": "stream",
     "text": [
      "Requirement already satisfied: absl-py==2.1.0 in c:\\users\\ivan\\miniconda3\\envs\\nlp\\lib\\site-packages (from -r requirements.txt (line 1)) (2.1.0)\n",
      "Requirement already satisfied: asttokens==2.4.1 in c:\\users\\ivan\\miniconda3\\envs\\nlp\\lib\\site-packages (from -r requirements.txt (line 2)) (2.4.1)\n",
      "Requirement already satisfied: astunparse==1.6.3 in c:\\users\\ivan\\miniconda3\\envs\\nlp\\lib\\site-packages (from -r requirements.txt (line 3)) (1.6.3)\n",
      "Requirement already satisfied: certifi==2024.2.2 in c:\\users\\ivan\\miniconda3\\envs\\nlp\\lib\\site-packages (from -r requirements.txt (line 4)) (2024.2.2)\n",
      "Requirement already satisfied: charset-normalizer==3.3.2 in c:\\users\\ivan\\miniconda3\\envs\\nlp\\lib\\site-packages (from -r requirements.txt (line 5)) (3.3.2)\n",
      "Requirement already satisfied: click==8.1.7 in c:\\users\\ivan\\miniconda3\\envs\\nlp\\lib\\site-packages (from -r requirements.txt (line 6)) (8.1.7)\n",
      "Requirement already satisfied: contourpy==1.2.1 in c:\\users\\ivan\\miniconda3\\envs\\nlp\\lib\\site-packages (from -r requirements.txt (line 7)) (1.2.1)\n",
      "Requirement already satisfied: cycler==0.12.1 in c:\\users\\ivan\\miniconda3\\envs\\nlp\\lib\\site-packages (from -r requirements.txt (line 8)) (0.12.1)\n",
      "Requirement already satisfied: flatbuffers==24.3.25 in c:\\users\\ivan\\miniconda3\\envs\\nlp\\lib\\site-packages (from -r requirements.txt (line 9)) (24.3.25)\n",
      "Requirement already satisfied: fonttools==4.51.0 in c:\\users\\ivan\\miniconda3\\envs\\nlp\\lib\\site-packages (from -r requirements.txt (line 10)) (4.51.0)\n",
      "Requirement already satisfied: gast==0.5.4 in c:\\users\\ivan\\miniconda3\\envs\\nlp\\lib\\site-packages (from -r requirements.txt (line 11)) (0.5.4)\n",
      "Requirement already satisfied: google-pasta==0.2.0 in c:\\users\\ivan\\miniconda3\\envs\\nlp\\lib\\site-packages (from -r requirements.txt (line 12)) (0.2.0)\n",
      "Requirement already satisfied: grpcio==1.62.1 in c:\\users\\ivan\\miniconda3\\envs\\nlp\\lib\\site-packages (from -r requirements.txt (line 13)) (1.62.1)\n",
      "Requirement already satisfied: h5py==3.11.0 in c:\\users\\ivan\\miniconda3\\envs\\nlp\\lib\\site-packages (from -r requirements.txt (line 14)) (3.11.0)\n",
      "Requirement already satisfied: idna==3.7 in c:\\users\\ivan\\miniconda3\\envs\\nlp\\lib\\site-packages (from -r requirements.txt (line 15)) (3.7)\n",
      "Requirement already satisfied: joblib==1.4.0 in c:\\users\\ivan\\miniconda3\\envs\\nlp\\lib\\site-packages (from -r requirements.txt (line 16)) (1.4.0)\n",
      "Requirement already satisfied: keras==3.2.1 in c:\\users\\ivan\\miniconda3\\envs\\nlp\\lib\\site-packages (from -r requirements.txt (line 17)) (3.2.1)\n",
      "Requirement already satisfied: kiwisolver==1.4.5 in c:\\users\\ivan\\miniconda3\\envs\\nlp\\lib\\site-packages (from -r requirements.txt (line 18)) (1.4.5)\n",
      "Requirement already satisfied: libclang==18.1.1 in c:\\users\\ivan\\miniconda3\\envs\\nlp\\lib\\site-packages (from -r requirements.txt (line 19)) (18.1.1)\n",
      "Requirement already satisfied: markdown==3.6 in c:\\users\\ivan\\miniconda3\\envs\\nlp\\lib\\site-packages (from -r requirements.txt (line 20)) (3.6)\n",
      "Requirement already satisfied: markdown-it-py==3.0.0 in c:\\users\\ivan\\miniconda3\\envs\\nlp\\lib\\site-packages (from -r requirements.txt (line 21)) (3.0.0)\n",
      "Requirement already satisfied: markupsafe==2.1.5 in c:\\users\\ivan\\miniconda3\\envs\\nlp\\lib\\site-packages (from -r requirements.txt (line 22)) (2.1.5)\n",
      "Requirement already satisfied: matplotlib==3.8.4 in c:\\users\\ivan\\miniconda3\\envs\\nlp\\lib\\site-packages (from -r requirements.txt (line 23)) (3.8.4)\n",
      "Requirement already satisfied: mdurl==0.1.2 in c:\\users\\ivan\\miniconda3\\envs\\nlp\\lib\\site-packages (from -r requirements.txt (line 24)) (0.1.2)\n",
      "Requirement already satisfied: ml-dtypes==0.3.2 in c:\\users\\ivan\\miniconda3\\envs\\nlp\\lib\\site-packages (from -r requirements.txt (line 25)) (0.3.2)\n",
      "Requirement already satisfied: namex==0.0.7 in c:\\users\\ivan\\miniconda3\\envs\\nlp\\lib\\site-packages (from -r requirements.txt (line 26)) (0.0.7)\n",
      "Requirement already satisfied: nltk==3.8.1 in c:\\users\\ivan\\miniconda3\\envs\\nlp\\lib\\site-packages (from -r requirements.txt (line 27)) (3.8.1)\n",
      "Requirement already satisfied: numpy==1.26.4 in c:\\users\\ivan\\miniconda3\\envs\\nlp\\lib\\site-packages (from -r requirements.txt (line 28)) (1.26.4)\n",
      "Requirement already satisfied: opt-einsum==3.3.0 in c:\\users\\ivan\\miniconda3\\envs\\nlp\\lib\\site-packages (from -r requirements.txt (line 29)) (3.3.0)\n",
      "Requirement already satisfied: optree==0.11.0 in c:\\users\\ivan\\miniconda3\\envs\\nlp\\lib\\site-packages (from -r requirements.txt (line 30)) (0.11.0)\n",
      "Requirement already satisfied: pandas==2.2.2 in c:\\users\\ivan\\miniconda3\\envs\\nlp\\lib\\site-packages (from -r requirements.txt (line 31)) (2.2.2)\n",
      "Requirement already satisfied: pillow==10.3.0 in c:\\users\\ivan\\miniconda3\\envs\\nlp\\lib\\site-packages (from -r requirements.txt (line 32)) (10.3.0)\n",
      "Requirement already satisfied: protobuf==4.25.3 in c:\\users\\ivan\\miniconda3\\envs\\nlp\\lib\\site-packages (from -r requirements.txt (line 33)) (4.25.3)\n",
      "Requirement already satisfied: psutil==5.9.0 in c:\\users\\ivan\\miniconda3\\envs\\nlp\\lib\\site-packages (from -r requirements.txt (line 34)) (5.9.0)\n",
      "Requirement already satisfied: pyparsing==3.1.2 in c:\\users\\ivan\\miniconda3\\envs\\nlp\\lib\\site-packages (from -r requirements.txt (line 35)) (3.1.2)\n",
      "Requirement already satisfied: python-dateutil==2.9.0.post0 in c:\\users\\ivan\\miniconda3\\envs\\nlp\\lib\\site-packages (from -r requirements.txt (line 36)) (2.9.0.post0)\n",
      "Requirement already satisfied: pytz==2024.1 in c:\\users\\ivan\\miniconda3\\envs\\nlp\\lib\\site-packages (from -r requirements.txt (line 37)) (2024.1)\n",
      "Requirement already satisfied: regex==2023.12.25 in c:\\users\\ivan\\miniconda3\\envs\\nlp\\lib\\site-packages (from -r requirements.txt (line 38)) (2023.12.25)\n",
      "Requirement already satisfied: requests==2.31.0 in c:\\users\\ivan\\miniconda3\\envs\\nlp\\lib\\site-packages (from -r requirements.txt (line 39)) (2.31.0)\n",
      "Requirement already satisfied: rich==13.7.1 in c:\\users\\ivan\\miniconda3\\envs\\nlp\\lib\\site-packages (from -r requirements.txt (line 40)) (13.7.1)\n",
      "Requirement already satisfied: scikit-learn==1.4.2 in c:\\users\\ivan\\miniconda3\\envs\\nlp\\lib\\site-packages (from -r requirements.txt (line 41)) (1.4.2)\n",
      "Requirement already satisfied: scipy==1.13.0 in c:\\users\\ivan\\miniconda3\\envs\\nlp\\lib\\site-packages (from -r requirements.txt (line 42)) (1.13.0)\n",
      "Requirement already satisfied: seaborn==0.13.2 in c:\\users\\ivan\\miniconda3\\envs\\nlp\\lib\\site-packages (from -r requirements.txt (line 43)) (0.13.2)\n",
      "Requirement already satisfied: six==1.16.0 in c:\\users\\ivan\\miniconda3\\envs\\nlp\\lib\\site-packages (from -r requirements.txt (line 44)) (1.16.0)\n",
      "Requirement already satisfied: tensorboard==2.16.2 in c:\\users\\ivan\\miniconda3\\envs\\nlp\\lib\\site-packages (from -r requirements.txt (line 45)) (2.16.2)\n",
      "Requirement already satisfied: tensorboard-data-server==0.7.2 in c:\\users\\ivan\\miniconda3\\envs\\nlp\\lib\\site-packages (from -r requirements.txt (line 46)) (0.7.2)\n",
      "Requirement already satisfied: tensorflow==2.16.1 in c:\\users\\ivan\\miniconda3\\envs\\nlp\\lib\\site-packages (from -r requirements.txt (line 47)) (2.16.1)\n",
      "Requirement already satisfied: tensorflow-intel==2.16.1 in c:\\users\\ivan\\miniconda3\\envs\\nlp\\lib\\site-packages (from -r requirements.txt (line 48)) (2.16.1)\n",
      "Requirement already satisfied: termcolor==2.4.0 in c:\\users\\ivan\\miniconda3\\envs\\nlp\\lib\\site-packages (from -r requirements.txt (line 49)) (2.4.0)\n",
      "Requirement already satisfied: threadpoolctl==3.4.0 in c:\\users\\ivan\\miniconda3\\envs\\nlp\\lib\\site-packages (from -r requirements.txt (line 50)) (3.4.0)\n",
      "Requirement already satisfied: tornado==6.3.3 in c:\\users\\ivan\\miniconda3\\envs\\nlp\\lib\\site-packages (from -r requirements.txt (line 51)) (6.3.3)\n",
      "Requirement already satisfied: tqdm==4.66.2 in c:\\users\\ivan\\miniconda3\\envs\\nlp\\lib\\site-packages (from -r requirements.txt (line 52)) (4.66.2)\n",
      "Requirement already satisfied: typing-extensions==4.11.0 in c:\\users\\ivan\\miniconda3\\envs\\nlp\\lib\\site-packages (from -r requirements.txt (line 53)) (4.11.0)\n",
      "Requirement already satisfied: urllib3==2.2.1 in c:\\users\\ivan\\miniconda3\\envs\\nlp\\lib\\site-packages (from -r requirements.txt (line 54)) (2.2.1)\n",
      "Requirement already satisfied: werkzeug==3.0.2 in c:\\users\\ivan\\miniconda3\\envs\\nlp\\lib\\site-packages (from -r requirements.txt (line 55)) (3.0.2)\n",
      "Requirement already satisfied: wheel==0.41.2 in c:\\users\\ivan\\miniconda3\\envs\\nlp\\lib\\site-packages (from -r requirements.txt (line 56)) (0.41.2)\n",
      "Requirement already satisfied: wordcloud==1.9.3 in c:\\users\\ivan\\miniconda3\\envs\\nlp\\lib\\site-packages (from -r requirements.txt (line 57)) (1.9.3)\n",
      "Requirement already satisfied: wrapt==1.16.0 in c:\\users\\ivan\\miniconda3\\envs\\nlp\\lib\\site-packages (from -r requirements.txt (line 58)) (1.16.0)\n",
      "Requirement already satisfied: colorama in c:\\users\\ivan\\miniconda3\\envs\\nlp\\lib\\site-packages (from click==8.1.7->-r requirements.txt (line 6)) (0.4.6)\n",
      "Requirement already satisfied: packaging>=20.0 in c:\\users\\ivan\\miniconda3\\envs\\nlp\\lib\\site-packages (from matplotlib==3.8.4->-r requirements.txt (line 23)) (24.0)\n",
      "Requirement already satisfied: tzdata>=2022.7 in c:\\users\\ivan\\miniconda3\\envs\\nlp\\lib\\site-packages (from pandas==2.2.2->-r requirements.txt (line 31)) (2024.1)\n",
      "Requirement already satisfied: pygments<3.0.0,>=2.13.0 in c:\\users\\ivan\\miniconda3\\envs\\nlp\\lib\\site-packages (from rich==13.7.1->-r requirements.txt (line 40)) (2.17.2)\n",
      "Requirement already satisfied: setuptools>=41.0.0 in c:\\users\\ivan\\miniconda3\\envs\\nlp\\lib\\site-packages (from tensorboard==2.16.2->-r requirements.txt (line 45)) (68.2.2)\n",
      "Note: you may need to restart the kernel to use updated packages.\n"
     ]
    }
   ],
   "source": [
    "%pip install -r requirements.txt\n",
    "# Load, explore and plot data\n",
    "import numpy as np\n",
    "import pandas as pd\n",
    "import seaborn as sns\n",
    "import matplotlib.pyplot as plt\n",
    "\n",
    "import nltk\n",
    "from nltk.corpus import stopwords\n",
    "import re\n",
    "\n",
    "######## SEED setzen\n",
    "import random\n",
    "# Random Seed setzen:\n",
    "random.seed(49)\n",
    "np.random.seed(49)\n",
    "SEED = 49"
   ]
  },
  {
   "cell_type": "markdown",
   "metadata": {},
   "source": [
    "## Load Data"
   ]
  },
  {
   "cell_type": "code",
   "execution_count": 3,
   "metadata": {},
   "outputs": [
    {
     "data": {
      "text/html": [
       "<div>\n",
       "<style scoped>\n",
       "    .dataframe tbody tr th:only-of-type {\n",
       "        vertical-align: middle;\n",
       "    }\n",
       "\n",
       "    .dataframe tbody tr th {\n",
       "        vertical-align: top;\n",
       "    }\n",
       "\n",
       "    .dataframe thead th {\n",
       "        text-align: right;\n",
       "    }\n",
       "</style>\n",
       "<table border=\"1\" class=\"dataframe\">\n",
       "  <thead>\n",
       "    <tr style=\"text-align: right;\">\n",
       "      <th></th>\n",
       "      <th>ALink</th>\n",
       "      <th>SName</th>\n",
       "      <th>SLink</th>\n",
       "      <th>Lyric</th>\n",
       "      <th>language</th>\n",
       "    </tr>\n",
       "  </thead>\n",
       "  <tbody>\n",
       "    <tr>\n",
       "      <th>0</th>\n",
       "      <td>/ivete-sangalo/</td>\n",
       "      <td>Arerê</td>\n",
       "      <td>/ivete-sangalo/arere.html</td>\n",
       "      <td>Tudo o que eu quero nessa vida,\\nToda vida, é\\...</td>\n",
       "      <td>pt</td>\n",
       "    </tr>\n",
       "    <tr>\n",
       "      <th>1</th>\n",
       "      <td>/ivete-sangalo/</td>\n",
       "      <td>Se Eu Não Te Amasse Tanto Assim</td>\n",
       "      <td>/ivete-sangalo/se-eu-nao-te-amasse-tanto-assim...</td>\n",
       "      <td>Meu coração\\nSem direção\\nVoando só por voar\\n...</td>\n",
       "      <td>pt</td>\n",
       "    </tr>\n",
       "  </tbody>\n",
       "</table>\n",
       "</div>"
      ],
      "text/plain": [
       "             ALink                            SName  \\\n",
       "0  /ivete-sangalo/                            Arerê   \n",
       "1  /ivete-sangalo/  Se Eu Não Te Amasse Tanto Assim   \n",
       "\n",
       "                                               SLink  \\\n",
       "0                          /ivete-sangalo/arere.html   \n",
       "1  /ivete-sangalo/se-eu-nao-te-amasse-tanto-assim...   \n",
       "\n",
       "                                               Lyric language  \n",
       "0  Tudo o que eu quero nessa vida,\\nToda vida, é\\...       pt  \n",
       "1  Meu coração\\nSem direção\\nVoando só por voar\\n...       pt  "
      ]
     },
     "execution_count": 3,
     "metadata": {},
     "output_type": "execute_result"
    }
   ],
   "source": [
    "lyrics_df = pd.read_csv('lyrics-data.csv')\n",
    "lyrics_df.head(2)"
   ]
  },
  {
   "cell_type": "code",
   "execution_count": 4,
   "metadata": {},
   "outputs": [
    {
     "data": {
      "text/html": [
       "<div>\n",
       "<style scoped>\n",
       "    .dataframe tbody tr th:only-of-type {\n",
       "        vertical-align: middle;\n",
       "    }\n",
       "\n",
       "    .dataframe tbody tr th {\n",
       "        vertical-align: top;\n",
       "    }\n",
       "\n",
       "    .dataframe thead th {\n",
       "        text-align: right;\n",
       "    }\n",
       "</style>\n",
       "<table border=\"1\" class=\"dataframe\">\n",
       "  <thead>\n",
       "    <tr style=\"text-align: right;\">\n",
       "      <th></th>\n",
       "      <th>Artist</th>\n",
       "      <th>Genres</th>\n",
       "      <th>Songs</th>\n",
       "      <th>Popularity</th>\n",
       "      <th>Link</th>\n",
       "    </tr>\n",
       "  </thead>\n",
       "  <tbody>\n",
       "    <tr>\n",
       "      <th>0</th>\n",
       "      <td>Ivete Sangalo</td>\n",
       "      <td>Pop; Axé; Romântico</td>\n",
       "      <td>313.0</td>\n",
       "      <td>4.4</td>\n",
       "      <td>/ivete-sangalo/</td>\n",
       "    </tr>\n",
       "    <tr>\n",
       "      <th>1</th>\n",
       "      <td>Chiclete com Banana</td>\n",
       "      <td>Axé</td>\n",
       "      <td>268.0</td>\n",
       "      <td>3.8</td>\n",
       "      <td>/chiclete-com-banana/</td>\n",
       "    </tr>\n",
       "  </tbody>\n",
       "</table>\n",
       "</div>"
      ],
      "text/plain": [
       "                Artist               Genres  Songs  Popularity  \\\n",
       "0        Ivete Sangalo  Pop; Axé; Romântico  313.0         4.4   \n",
       "1  Chiclete com Banana                  Axé  268.0         3.8   \n",
       "\n",
       "                    Link  \n",
       "0        /ivete-sangalo/  \n",
       "1  /chiclete-com-banana/  "
      ]
     },
     "execution_count": 4,
     "metadata": {},
     "output_type": "execute_result"
    }
   ],
   "source": [
    "artist_df = pd.read_csv('artists-data.csv')\n",
    "artist_df.head(2)"
   ]
  },
  {
   "cell_type": "markdown",
   "metadata": {},
   "source": [
    "## Merge Data"
   ]
  },
  {
   "cell_type": "code",
   "execution_count": 5,
   "metadata": {},
   "outputs": [
    {
     "data": {
      "text/html": [
       "<div>\n",
       "<style scoped>\n",
       "    .dataframe tbody tr th:only-of-type {\n",
       "        vertical-align: middle;\n",
       "    }\n",
       "\n",
       "    .dataframe tbody tr th {\n",
       "        vertical-align: top;\n",
       "    }\n",
       "\n",
       "    .dataframe thead th {\n",
       "        text-align: right;\n",
       "    }\n",
       "</style>\n",
       "<table border=\"1\" class=\"dataframe\">\n",
       "  <thead>\n",
       "    <tr style=\"text-align: right;\">\n",
       "      <th></th>\n",
       "      <th>ALink</th>\n",
       "      <th>SName</th>\n",
       "      <th>SLink</th>\n",
       "      <th>Lyric</th>\n",
       "      <th>language</th>\n",
       "      <th>Artist</th>\n",
       "      <th>Genres</th>\n",
       "      <th>Songs</th>\n",
       "      <th>Popularity</th>\n",
       "      <th>Link</th>\n",
       "    </tr>\n",
       "  </thead>\n",
       "  <tbody>\n",
       "    <tr>\n",
       "      <th>0</th>\n",
       "      <td>/ivete-sangalo/</td>\n",
       "      <td>Arerê</td>\n",
       "      <td>/ivete-sangalo/arere.html</td>\n",
       "      <td>Tudo o que eu quero nessa vida,\\nToda vida, é\\...</td>\n",
       "      <td>pt</td>\n",
       "      <td>Ivete Sangalo</td>\n",
       "      <td>Pop; Axé; Romântico</td>\n",
       "      <td>313.0</td>\n",
       "      <td>4.4</td>\n",
       "      <td>/ivete-sangalo/</td>\n",
       "    </tr>\n",
       "    <tr>\n",
       "      <th>1</th>\n",
       "      <td>/ivete-sangalo/</td>\n",
       "      <td>Se Eu Não Te Amasse Tanto Assim</td>\n",
       "      <td>/ivete-sangalo/se-eu-nao-te-amasse-tanto-assim...</td>\n",
       "      <td>Meu coração\\nSem direção\\nVoando só por voar\\n...</td>\n",
       "      <td>pt</td>\n",
       "      <td>Ivete Sangalo</td>\n",
       "      <td>Pop; Axé; Romântico</td>\n",
       "      <td>313.0</td>\n",
       "      <td>4.4</td>\n",
       "      <td>/ivete-sangalo/</td>\n",
       "    </tr>\n",
       "    <tr>\n",
       "      <th>2</th>\n",
       "      <td>/ivete-sangalo/</td>\n",
       "      <td>Céu da Boca</td>\n",
       "      <td>/ivete-sangalo/chupa-toda.html</td>\n",
       "      <td>É de babaixá!\\nÉ de balacubaca!\\nÉ de babaixá!...</td>\n",
       "      <td>pt</td>\n",
       "      <td>Ivete Sangalo</td>\n",
       "      <td>Pop; Axé; Romântico</td>\n",
       "      <td>313.0</td>\n",
       "      <td>4.4</td>\n",
       "      <td>/ivete-sangalo/</td>\n",
       "    </tr>\n",
       "    <tr>\n",
       "      <th>3</th>\n",
       "      <td>/ivete-sangalo/</td>\n",
       "      <td>Quando A Chuva Passar</td>\n",
       "      <td>/ivete-sangalo/quando-a-chuva-passar.html</td>\n",
       "      <td>Quando a chuva passar\\n\\nPra quê falar\\nSe voc...</td>\n",
       "      <td>pt</td>\n",
       "      <td>Ivete Sangalo</td>\n",
       "      <td>Pop; Axé; Romântico</td>\n",
       "      <td>313.0</td>\n",
       "      <td>4.4</td>\n",
       "      <td>/ivete-sangalo/</td>\n",
       "    </tr>\n",
       "    <tr>\n",
       "      <th>4</th>\n",
       "      <td>/ivete-sangalo/</td>\n",
       "      <td>Sorte Grande</td>\n",
       "      <td>/ivete-sangalo/sorte-grande.html</td>\n",
       "      <td>A minha sorte grande foi você cair do céu\\nMin...</td>\n",
       "      <td>pt</td>\n",
       "      <td>Ivete Sangalo</td>\n",
       "      <td>Pop; Axé; Romântico</td>\n",
       "      <td>313.0</td>\n",
       "      <td>4.4</td>\n",
       "      <td>/ivete-sangalo/</td>\n",
       "    </tr>\n",
       "  </tbody>\n",
       "</table>\n",
       "</div>"
      ],
      "text/plain": [
       "             ALink                            SName  \\\n",
       "0  /ivete-sangalo/                            Arerê   \n",
       "1  /ivete-sangalo/  Se Eu Não Te Amasse Tanto Assim   \n",
       "2  /ivete-sangalo/                      Céu da Boca   \n",
       "3  /ivete-sangalo/            Quando A Chuva Passar   \n",
       "4  /ivete-sangalo/                     Sorte Grande   \n",
       "\n",
       "                                               SLink  \\\n",
       "0                          /ivete-sangalo/arere.html   \n",
       "1  /ivete-sangalo/se-eu-nao-te-amasse-tanto-assim...   \n",
       "2                     /ivete-sangalo/chupa-toda.html   \n",
       "3          /ivete-sangalo/quando-a-chuva-passar.html   \n",
       "4                   /ivete-sangalo/sorte-grande.html   \n",
       "\n",
       "                                               Lyric language         Artist  \\\n",
       "0  Tudo o que eu quero nessa vida,\\nToda vida, é\\...       pt  Ivete Sangalo   \n",
       "1  Meu coração\\nSem direção\\nVoando só por voar\\n...       pt  Ivete Sangalo   \n",
       "2  É de babaixá!\\nÉ de balacubaca!\\nÉ de babaixá!...       pt  Ivete Sangalo   \n",
       "3  Quando a chuva passar\\n\\nPra quê falar\\nSe voc...       pt  Ivete Sangalo   \n",
       "4  A minha sorte grande foi você cair do céu\\nMin...       pt  Ivete Sangalo   \n",
       "\n",
       "                Genres  Songs  Popularity             Link  \n",
       "0  Pop; Axé; Romântico  313.0         4.4  /ivete-sangalo/  \n",
       "1  Pop; Axé; Romântico  313.0         4.4  /ivete-sangalo/  \n",
       "2  Pop; Axé; Romântico  313.0         4.4  /ivete-sangalo/  \n",
       "3  Pop; Axé; Romântico  313.0         4.4  /ivete-sangalo/  \n",
       "4  Pop; Axé; Romântico  313.0         4.4  /ivete-sangalo/  "
      ]
     },
     "execution_count": 5,
     "metadata": {},
     "output_type": "execute_result"
    }
   ],
   "source": [
    "# Zusammenführen der DataFrames anhand der 'ALink' Spalte in lyrics_df und der 'Link' Spalte in artist_df\n",
    "df = pd.merge(lyrics_df, artist_df, left_on='ALink', right_on='Link')\n",
    "\n",
    "# Anzeigen der ersten paar Zeilen des resultierenden DataFrames\n",
    "df.head()"
   ]
  },
  {
   "cell_type": "code",
   "execution_count": 6,
   "metadata": {},
   "outputs": [
    {
     "data": {
      "text/plain": [
       "ALink           4161\n",
       "SName         266677\n",
       "SLink         378949\n",
       "Lyric         370290\n",
       "language          51\n",
       "Artist          4161\n",
       "Genres          1747\n",
       "Songs            406\n",
       "Popularity       216\n",
       "Link            4161\n",
       "dtype: int64"
      ]
     },
     "execution_count": 6,
     "metadata": {},
     "output_type": "execute_result"
    }
   ],
   "source": [
    "df.nunique()"
   ]
  },
  {
   "cell_type": "code",
   "execution_count": 7,
   "metadata": {},
   "outputs": [
    {
     "data": {
      "text/plain": [
       "Genres\n",
       "Gospel/Religioso                            20095\n",
       "Sertanejo                                   10847\n",
       "Rock                                         5870\n",
       "Romântico                                    5233\n",
       "Forró                                        5114\n",
       "                                            ...  \n",
       "Rap; Hip Hop; Infantil                          1\n",
       "Progressivo; House; Electronica                 1\n",
       "Pop/Rock; Classic Rock; Gospel/Religioso        1\n",
       "Rap; Gospel/Religioso                           1\n",
       "Funk Carioca; Blues                             1\n",
       "Name: count, Length: 1747, dtype: int64"
      ]
     },
     "execution_count": 7,
     "metadata": {},
     "output_type": "execute_result"
    }
   ],
   "source": [
    "df[\"Genres\"].value_counts()"
   ]
  },
  {
   "cell_type": "code",
   "execution_count": 54,
   "metadata": {},
   "outputs": [
    {
     "data": {
      "text/plain": [
       "language\n",
       "en     191387\n",
       "pt     156941\n",
       "es       9916\n",
       "rw       1679\n",
       "it       1426\n",
       "fr       1221\n",
       "de        843\n",
       "fi        145\n",
       "sv        112\n",
       "ro         97\n",
       "no         89\n",
       "is         86\n",
       "tl         69\n",
       "pl         47\n",
       "gl         36\n",
       "ga         32\n",
       "tr         32\n",
       "id         26\n",
       "cy         23\n",
       "su         19\n",
       "af         19\n",
       "sw         19\n",
       "ko         17\n",
       "nl         14\n",
       "da         13\n",
       "ca         13\n",
       "et         12\n",
       "ms          8\n",
       "ja          7\n",
       "st          6\n",
       "ht          5\n",
       "ar          4\n",
       "ru          4\n",
       "eu          4\n",
       "gd          4\n",
       "cs          3\n",
       "ku          3\n",
       "ny          3\n",
       "mg          3\n",
       "lg          2\n",
       "jw          2\n",
       "hu          2\n",
       "iw          1\n",
       "sr          1\n",
       "hmn         1\n",
       "hr          1\n",
       "vi          1\n",
       "fa          1\n",
       "sq          1\n",
       "zh          1\n",
       "sl          1\n",
       "Name: count, dtype: int64"
      ]
     },
     "execution_count": 54,
     "metadata": {},
     "output_type": "execute_result"
    }
   ],
   "source": [
    "df[\"language\"].value_counts()"
   ]
  },
  {
   "cell_type": "markdown",
   "metadata": {},
   "source": [
    "Wir verwenden nur engosche Lieder:"
   ]
  },
  {
   "cell_type": "code",
   "execution_count": 55,
   "metadata": {},
   "outputs": [],
   "source": [
    "df = df[df[\"language\"] == \"en\"]"
   ]
  },
  {
   "cell_type": "markdown",
   "metadata": {},
   "source": [
    "## Data Preprocessing"
   ]
  },
  {
   "cell_type": "code",
   "execution_count": 56,
   "metadata": {},
   "outputs": [
    {
     "data": {
      "text/html": [
       "<div>\n",
       "<style scoped>\n",
       "    .dataframe tbody tr th:only-of-type {\n",
       "        vertical-align: middle;\n",
       "    }\n",
       "\n",
       "    .dataframe tbody tr th {\n",
       "        vertical-align: top;\n",
       "    }\n",
       "\n",
       "    .dataframe thead th {\n",
       "        text-align: right;\n",
       "    }\n",
       "</style>\n",
       "<table border=\"1\" class=\"dataframe\">\n",
       "  <thead>\n",
       "    <tr style=\"text-align: right;\">\n",
       "      <th></th>\n",
       "      <th>Titel</th>\n",
       "      <th>Lyric</th>\n",
       "      <th>Artist</th>\n",
       "      <th>Genres</th>\n",
       "    </tr>\n",
       "  </thead>\n",
       "  <tbody>\n",
       "    <tr>\n",
       "      <th>69</th>\n",
       "      <td>Careless Whisper</td>\n",
       "      <td>I feel so unsure\\nAs I take your hand and lead...</td>\n",
       "      <td>Ivete Sangalo</td>\n",
       "      <td>Pop; Axé; Romântico</td>\n",
       "    </tr>\n",
       "    <tr>\n",
       "      <th>86</th>\n",
       "      <td>Could You Be Loved / Citação Musical do Rap: S...</td>\n",
       "      <td>Don't let them fool, ya\\nOr even try to school...</td>\n",
       "      <td>Ivete Sangalo</td>\n",
       "      <td>Pop; Axé; Romântico</td>\n",
       "    </tr>\n",
       "    <tr>\n",
       "      <th>88</th>\n",
       "      <td>Cruisin' (Part. Saulo)</td>\n",
       "      <td>Baby, let's cruise, away from here\\nDon't be c...</td>\n",
       "      <td>Ivete Sangalo</td>\n",
       "      <td>Pop; Axé; Romântico</td>\n",
       "    </tr>\n",
       "    <tr>\n",
       "      <th>111</th>\n",
       "      <td>Easy</td>\n",
       "      <td>Know it sounds funny\\nBut, I just can't stand ...</td>\n",
       "      <td>Ivete Sangalo</td>\n",
       "      <td>Pop; Axé; Romântico</td>\n",
       "    </tr>\n",
       "    <tr>\n",
       "      <th>140</th>\n",
       "      <td>For Your Babies (The Voice cover)</td>\n",
       "      <td>You've got that look again\\nThe one I hoped I ...</td>\n",
       "      <td>Ivete Sangalo</td>\n",
       "      <td>Pop; Axé; Romântico</td>\n",
       "    </tr>\n",
       "  </tbody>\n",
       "</table>\n",
       "</div>"
      ],
      "text/plain": [
       "                                                 Titel  \\\n",
       "69                                    Careless Whisper   \n",
       "86   Could You Be Loved / Citação Musical do Rap: S...   \n",
       "88                              Cruisin' (Part. Saulo)   \n",
       "111                                               Easy   \n",
       "140                  For Your Babies (The Voice cover)   \n",
       "\n",
       "                                                 Lyric         Artist  \\\n",
       "69   I feel so unsure\\nAs I take your hand and lead...  Ivete Sangalo   \n",
       "86   Don't let them fool, ya\\nOr even try to school...  Ivete Sangalo   \n",
       "88   Baby, let's cruise, away from here\\nDon't be c...  Ivete Sangalo   \n",
       "111  Know it sounds funny\\nBut, I just can't stand ...  Ivete Sangalo   \n",
       "140  You've got that look again\\nThe one I hoped I ...  Ivete Sangalo   \n",
       "\n",
       "                  Genres  \n",
       "69   Pop; Axé; Romântico  \n",
       "86   Pop; Axé; Romântico  \n",
       "88   Pop; Axé; Romântico  \n",
       "111  Pop; Axé; Romântico  \n",
       "140  Pop; Axé; Romântico  "
      ]
     },
     "execution_count": 56,
     "metadata": {},
     "output_type": "execute_result"
    }
   ],
   "source": [
    "df = df.drop([\"ALink\",\"SLink\", \"Songs\", \"Popularity\", \"Link\", \"language\"], axis=1)\n",
    "df.rename(columns={'SName': 'Titel'}, inplace=True)\n",
    "df.head(5)"
   ]
  },
  {
   "cell_type": "code",
   "execution_count": 57,
   "metadata": {},
   "outputs": [
    {
     "data": {
      "text/plain": [
       "191387"
      ]
     },
     "execution_count": 57,
     "metadata": {},
     "output_type": "execute_result"
    }
   ],
   "source": [
    "len(df)"
   ]
  },
  {
   "cell_type": "code",
   "execution_count": 58,
   "metadata": {},
   "outputs": [
    {
     "data": {
      "text/plain": [
       "Titel     2\n",
       "Lyric     0\n",
       "Artist    0\n",
       "Genres    9\n",
       "dtype: int64"
      ]
     },
     "execution_count": 58,
     "metadata": {},
     "output_type": "execute_result"
    }
   ],
   "source": [
    "df.isna().sum()"
   ]
  },
  {
   "cell_type": "markdown",
   "metadata": {},
   "source": [
    "Alle Observation (Zeilen) mit nan Werten rausschmeißen (nur Genre wegen Label, Name ist uns egal, da nurnur die L):"
   ]
  },
  {
   "cell_type": "code",
   "execution_count": 59,
   "metadata": {},
   "outputs": [],
   "source": [
    "df = df.dropna(subset=['Genres'])"
   ]
  },
  {
   "cell_type": "code",
   "execution_count": 60,
   "metadata": {},
   "outputs": [
    {
     "data": {
      "text/plain": [
       "Titel     2\n",
       "Lyric     0\n",
       "Artist    0\n",
       "Genres    0\n",
       "dtype: int64"
      ]
     },
     "execution_count": 60,
     "metadata": {},
     "output_type": "execute_result"
    }
   ],
   "source": [
    "df.isna().sum()"
   ]
  },
  {
   "cell_type": "markdown",
   "metadata": {},
   "source": [
    "Entfernen von \\n und \\t weil dass durch Scrapen entstanden ist, sehe ich schon von 20 Metern auf die ersten Daten:"
   ]
  },
  {
   "cell_type": "code",
   "execution_count": 61,
   "metadata": {},
   "outputs": [
    {
     "data": {
      "text/html": [
       "<div>\n",
       "<style scoped>\n",
       "    .dataframe tbody tr th:only-of-type {\n",
       "        vertical-align: middle;\n",
       "    }\n",
       "\n",
       "    .dataframe tbody tr th {\n",
       "        vertical-align: top;\n",
       "    }\n",
       "\n",
       "    .dataframe thead th {\n",
       "        text-align: right;\n",
       "    }\n",
       "</style>\n",
       "<table border=\"1\" class=\"dataframe\">\n",
       "  <thead>\n",
       "    <tr style=\"text-align: right;\">\n",
       "      <th></th>\n",
       "      <th>Titel</th>\n",
       "      <th>Lyric</th>\n",
       "      <th>Artist</th>\n",
       "      <th>Genres</th>\n",
       "    </tr>\n",
       "  </thead>\n",
       "  <tbody>\n",
       "    <tr>\n",
       "      <th>69</th>\n",
       "      <td>Careless Whisper</td>\n",
       "      <td>I feel so unsure As I take your hand and lead ...</td>\n",
       "      <td>Ivete Sangalo</td>\n",
       "      <td>Pop; Axé; Romântico</td>\n",
       "    </tr>\n",
       "    <tr>\n",
       "      <th>86</th>\n",
       "      <td>Could You Be Loved / Citação Musical do Rap: S...</td>\n",
       "      <td>Don't let them fool, ya Or even try to school,...</td>\n",
       "      <td>Ivete Sangalo</td>\n",
       "      <td>Pop; Axé; Romântico</td>\n",
       "    </tr>\n",
       "    <tr>\n",
       "      <th>88</th>\n",
       "      <td>Cruisin' (Part. Saulo)</td>\n",
       "      <td>Baby, let's cruise, away from here Don't be co...</td>\n",
       "      <td>Ivete Sangalo</td>\n",
       "      <td>Pop; Axé; Romântico</td>\n",
       "    </tr>\n",
       "    <tr>\n",
       "      <th>111</th>\n",
       "      <td>Easy</td>\n",
       "      <td>Know it sounds funny But, I just can't stand t...</td>\n",
       "      <td>Ivete Sangalo</td>\n",
       "      <td>Pop; Axé; Romântico</td>\n",
       "    </tr>\n",
       "    <tr>\n",
       "      <th>140</th>\n",
       "      <td>For Your Babies (The Voice cover)</td>\n",
       "      <td>You've got that look again The one I hoped I h...</td>\n",
       "      <td>Ivete Sangalo</td>\n",
       "      <td>Pop; Axé; Romântico</td>\n",
       "    </tr>\n",
       "  </tbody>\n",
       "</table>\n",
       "</div>"
      ],
      "text/plain": [
       "                                                 Titel  \\\n",
       "69                                    Careless Whisper   \n",
       "86   Could You Be Loved / Citação Musical do Rap: S...   \n",
       "88                              Cruisin' (Part. Saulo)   \n",
       "111                                               Easy   \n",
       "140                  For Your Babies (The Voice cover)   \n",
       "\n",
       "                                                 Lyric         Artist  \\\n",
       "69   I feel so unsure As I take your hand and lead ...  Ivete Sangalo   \n",
       "86   Don't let them fool, ya Or even try to school,...  Ivete Sangalo   \n",
       "88   Baby, let's cruise, away from here Don't be co...  Ivete Sangalo   \n",
       "111  Know it sounds funny But, I just can't stand t...  Ivete Sangalo   \n",
       "140  You've got that look again The one I hoped I h...  Ivete Sangalo   \n",
       "\n",
       "                  Genres  \n",
       "69   Pop; Axé; Romântico  \n",
       "86   Pop; Axé; Romântico  \n",
       "88   Pop; Axé; Romântico  \n",
       "111  Pop; Axé; Romântico  \n",
       "140  Pop; Axé; Romântico  "
      ]
     },
     "execution_count": 61,
     "metadata": {},
     "output_type": "execute_result"
    }
   ],
   "source": [
    "df['Lyric'] = df['Lyric'].str.replace('\\n', ' ', regex=False)\n",
    "df['Lyric'] = df['Lyric'].str.replace('\\t', ' ', regex=False)\n",
    "df.head(5)"
   ]
  },
  {
   "cell_type": "markdown",
   "metadata": {},
   "source": [
    "Preprocessing der Daten (lyrics):\n",
    "- Lowercasing\n",
    "- Entfernung von Zahlen oder Umwandlung in Text\n",
    "- Entfernung von Satzzeichen\n",
    "- Entfernung von Stoppwörtern\n"
   ]
  },
  {
   "cell_type": "code",
   "execution_count": 62,
   "metadata": {},
   "outputs": [
    {
     "name": "stderr",
     "output_type": "stream",
     "text": [
      "[nltk_data] Downloading package stopwords to\n",
      "[nltk_data]     C:\\Users\\Ivan\\AppData\\Roaming\\nltk_data...\n",
      "[nltk_data]   Package stopwords is already up-to-date!\n"
     ]
    },
    {
     "data": {
      "text/html": [
       "<div>\n",
       "<style scoped>\n",
       "    .dataframe tbody tr th:only-of-type {\n",
       "        vertical-align: middle;\n",
       "    }\n",
       "\n",
       "    .dataframe tbody tr th {\n",
       "        vertical-align: top;\n",
       "    }\n",
       "\n",
       "    .dataframe thead th {\n",
       "        text-align: right;\n",
       "    }\n",
       "</style>\n",
       "<table border=\"1\" class=\"dataframe\">\n",
       "  <thead>\n",
       "    <tr style=\"text-align: right;\">\n",
       "      <th></th>\n",
       "      <th>Titel</th>\n",
       "      <th>Lyric</th>\n",
       "      <th>Artist</th>\n",
       "      <th>Genres</th>\n",
       "    </tr>\n",
       "  </thead>\n",
       "  <tbody>\n",
       "    <tr>\n",
       "      <th>69</th>\n",
       "      <td>Careless Whisper</td>\n",
       "      <td>feel unsure take hand lead dance floor music d...</td>\n",
       "      <td>Ivete Sangalo</td>\n",
       "      <td>Pop; Axé; Romântico</td>\n",
       "    </tr>\n",
       "    <tr>\n",
       "      <th>86</th>\n",
       "      <td>Could You Be Loved / Citação Musical do Rap: S...</td>\n",
       "      <td>dont let fool ya even try school ya oh weve go...</td>\n",
       "      <td>Ivete Sangalo</td>\n",
       "      <td>Pop; Axé; Romântico</td>\n",
       "    </tr>\n",
       "    <tr>\n",
       "      <th>88</th>\n",
       "      <td>Cruisin' (Part. Saulo)</td>\n",
       "      <td>baby lets cruise away dont confused way clear ...</td>\n",
       "      <td>Ivete Sangalo</td>\n",
       "      <td>Pop; Axé; Romântico</td>\n",
       "    </tr>\n",
       "    <tr>\n",
       "      <th>111</th>\n",
       "      <td>Easy</td>\n",
       "      <td>know sounds funny cant stand pain girl im leav...</td>\n",
       "      <td>Ivete Sangalo</td>\n",
       "      <td>Pop; Axé; Romântico</td>\n",
       "    </tr>\n",
       "    <tr>\n",
       "      <th>140</th>\n",
       "      <td>For Your Babies (The Voice cover)</td>\n",
       "      <td>youve got look one hoped lad face beaming smil...</td>\n",
       "      <td>Ivete Sangalo</td>\n",
       "      <td>Pop; Axé; Romântico</td>\n",
       "    </tr>\n",
       "  </tbody>\n",
       "</table>\n",
       "</div>"
      ],
      "text/plain": [
       "                                                 Titel  \\\n",
       "69                                    Careless Whisper   \n",
       "86   Could You Be Loved / Citação Musical do Rap: S...   \n",
       "88                              Cruisin' (Part. Saulo)   \n",
       "111                                               Easy   \n",
       "140                  For Your Babies (The Voice cover)   \n",
       "\n",
       "                                                 Lyric         Artist  \\\n",
       "69   feel unsure take hand lead dance floor music d...  Ivete Sangalo   \n",
       "86   dont let fool ya even try school ya oh weve go...  Ivete Sangalo   \n",
       "88   baby lets cruise away dont confused way clear ...  Ivete Sangalo   \n",
       "111  know sounds funny cant stand pain girl im leav...  Ivete Sangalo   \n",
       "140  youve got look one hoped lad face beaming smil...  Ivete Sangalo   \n",
       "\n",
       "                  Genres  \n",
       "69   Pop; Axé; Romântico  \n",
       "86   Pop; Axé; Romântico  \n",
       "88   Pop; Axé; Romântico  \n",
       "111  Pop; Axé; Romântico  \n",
       "140  Pop; Axé; Romântico  "
      ]
     },
     "execution_count": 62,
     "metadata": {},
     "output_type": "execute_result"
    }
   ],
   "source": [
    "# Sicherstellen, dass NLTK-Ressourcen heruntergeladen sind\n",
    "nltk.download('stopwords')\n",
    "\n",
    "\n",
    "# Funktion zur Bereinigung des Lyrics-Textes\n",
    "def clean_lyrics(text):\n",
    "    # Lowercasing\n",
    "    text = text.lower()\n",
    "    # Entfernung von Zahlen\n",
    "    text = re.sub(r'\\d+', '', text)\n",
    "    # Entfernung von Satzzeichen\n",
    "    text = re.sub(r'[^\\w\\s]', '', text)\n",
    "    # Entfernung von mehrfachen Leerzeichen\n",
    "    text = re.sub(r'\\s+', ' ', text)\n",
    "    # Entfernung von Stoppwörtern\n",
    "    stop_words = set(stopwords.words('english'))\n",
    "    text = ' '.join([word for word in text.split() if word not in stop_words])\n",
    "    # Entfernung von Wiederholungen wie \"yeah yeah yeah\"\n",
    "    return text\n",
    "\n",
    "# Anwendung der Bereinigungsfunktion auf die Spalte 'lyrics'\n",
    "df['Lyric'] = df['Lyric'].apply(clean_lyrics)\n",
    "df.head(5)"
   ]
  },
  {
   "cell_type": "markdown",
   "metadata": {},
   "source": [
    "## Prepairing Datasets"
   ]
  },
  {
   "cell_type": "markdown",
   "metadata": {},
   "source": [
    "### Datensatz 1:"
   ]
  },
  {
   "cell_type": "markdown",
   "metadata": {},
   "source": [
    "Alle Songs die mehr als ein Genre zugeordnet sind werden entfernt (Datensatz 1)"
   ]
  },
  {
   "cell_type": "code",
   "execution_count": 63,
   "metadata": {},
   "outputs": [
    {
     "data": {
      "text/html": [
       "<div>\n",
       "<style scoped>\n",
       "    .dataframe tbody tr th:only-of-type {\n",
       "        vertical-align: middle;\n",
       "    }\n",
       "\n",
       "    .dataframe tbody tr th {\n",
       "        vertical-align: top;\n",
       "    }\n",
       "\n",
       "    .dataframe thead th {\n",
       "        text-align: right;\n",
       "    }\n",
       "</style>\n",
       "<table border=\"1\" class=\"dataframe\">\n",
       "  <thead>\n",
       "    <tr style=\"text-align: right;\">\n",
       "      <th></th>\n",
       "      <th>Titel</th>\n",
       "      <th>Lyric</th>\n",
       "      <th>Artist</th>\n",
       "      <th>Genres</th>\n",
       "    </tr>\n",
       "  </thead>\n",
       "  <tbody>\n",
       "    <tr>\n",
       "      <th>1719</th>\n",
       "      <td>I Miss Her</td>\n",
       "      <td>oh lord id like know thinks oh oh lord wanna g...</td>\n",
       "      <td>Olodum</td>\n",
       "      <td>Axé</td>\n",
       "    </tr>\n",
       "    <tr>\n",
       "      <th>1766</th>\n",
       "      <td>They Don't Care About Us</td>\n",
       "      <td>skin head dead head everybody gone bad situati...</td>\n",
       "      <td>Olodum</td>\n",
       "      <td>Axé</td>\n",
       "    </tr>\n",
       "    <tr>\n",
       "      <th>2586</th>\n",
       "      <td>Loved You Right Away</td>\n",
       "      <td>moment saw minute met wonderful feeling never ...</td>\n",
       "      <td>Carlinhos Brown</td>\n",
       "      <td>Axé</td>\n",
       "    </tr>\n",
       "    <tr>\n",
       "      <th>2627</th>\n",
       "      <td>Goodbye Hello</td>\n",
       "      <td>alone time feel blues way inventions invention...</td>\n",
       "      <td>Carlinhos Brown</td>\n",
       "      <td>Axé</td>\n",
       "    </tr>\n",
       "    <tr>\n",
       "      <th>2640</th>\n",
       "      <td>Mess In The Freeway</td>\n",
       "      <td>wanna tell wonderful things wanna tell interes...</td>\n",
       "      <td>Carlinhos Brown</td>\n",
       "      <td>Axé</td>\n",
       "    </tr>\n",
       "  </tbody>\n",
       "</table>\n",
       "</div>"
      ],
      "text/plain": [
       "                         Titel  \\\n",
       "1719                I Miss Her   \n",
       "1766  They Don't Care About Us   \n",
       "2586      Loved You Right Away   \n",
       "2627             Goodbye Hello   \n",
       "2640       Mess In The Freeway   \n",
       "\n",
       "                                                  Lyric           Artist  \\\n",
       "1719  oh lord id like know thinks oh oh lord wanna g...           Olodum   \n",
       "1766  skin head dead head everybody gone bad situati...           Olodum   \n",
       "2586  moment saw minute met wonderful feeling never ...  Carlinhos Brown   \n",
       "2627  alone time feel blues way inventions invention...  Carlinhos Brown   \n",
       "2640  wanna tell wonderful things wanna tell interes...  Carlinhos Brown   \n",
       "\n",
       "     Genres  \n",
       "1719    Axé  \n",
       "1766    Axé  \n",
       "2586    Axé  \n",
       "2627    Axé  \n",
       "2640    Axé  "
      ]
     },
     "execution_count": 63,
     "metadata": {},
     "output_type": "execute_result"
    }
   ],
   "source": [
    "single_genre_df = df[df['Genres'].str.count(';') < 1]\n",
    "single_genre_df.head()"
   ]
  },
  {
   "cell_type": "code",
   "execution_count": 64,
   "metadata": {},
   "outputs": [
    {
     "data": {
      "text/plain": [
       "42760"
      ]
     },
     "execution_count": 64,
     "metadata": {},
     "output_type": "execute_result"
    }
   ],
   "source": [
    "len(single_genre_df)"
   ]
  },
  {
   "cell_type": "markdown",
   "metadata": {},
   "source": [
    "Plot der genres:"
   ]
  },
  {
   "cell_type": "code",
   "execution_count": 65,
   "metadata": {},
   "outputs": [
    {
     "name": "stderr",
     "output_type": "stream",
     "text": [
      "C:\\Users\\Ivan\\AppData\\Local\\Temp\\ipykernel_737472\\2008391391.py:1: FutureWarning: The 'axis' keyword in DataFrame.groupby is deprecated and will be removed in a future version.\n",
      "  plot_df= single_genre_df.groupby(\"Genres\", axis=0).count().sort_values(by=\"Lyric\",ascending=False)\n"
     ]
    },
    {
     "data": {
      "text/html": [
       "<div>\n",
       "<style scoped>\n",
       "    .dataframe tbody tr th:only-of-type {\n",
       "        vertical-align: middle;\n",
       "    }\n",
       "\n",
       "    .dataframe tbody tr th {\n",
       "        vertical-align: top;\n",
       "    }\n",
       "\n",
       "    .dataframe thead th {\n",
       "        text-align: right;\n",
       "    }\n",
       "</style>\n",
       "<table border=\"1\" class=\"dataframe\">\n",
       "  <thead>\n",
       "    <tr style=\"text-align: right;\">\n",
       "      <th></th>\n",
       "      <th>Titel</th>\n",
       "      <th>Lyric</th>\n",
       "      <th>Artist</th>\n",
       "    </tr>\n",
       "    <tr>\n",
       "      <th>Genres</th>\n",
       "      <th></th>\n",
       "      <th></th>\n",
       "      <th></th>\n",
       "    </tr>\n",
       "  </thead>\n",
       "  <tbody>\n",
       "    <tr>\n",
       "      <th>Country</th>\n",
       "      <td>4774</td>\n",
       "      <td>4774</td>\n",
       "      <td>4774</td>\n",
       "    </tr>\n",
       "    <tr>\n",
       "      <th>Rock</th>\n",
       "      <td>4672</td>\n",
       "      <td>4672</td>\n",
       "      <td>4672</td>\n",
       "    </tr>\n",
       "    <tr>\n",
       "      <th>Heavy Metal</th>\n",
       "      <td>4393</td>\n",
       "      <td>4394</td>\n",
       "      <td>4394</td>\n",
       "    </tr>\n",
       "    <tr>\n",
       "      <th>Indie</th>\n",
       "      <td>4288</td>\n",
       "      <td>4289</td>\n",
       "      <td>4289</td>\n",
       "    </tr>\n",
       "    <tr>\n",
       "      <th>Pop</th>\n",
       "      <td>2544</td>\n",
       "      <td>2544</td>\n",
       "      <td>2544</td>\n",
       "    </tr>\n",
       "  </tbody>\n",
       "</table>\n",
       "</div>"
      ],
      "text/plain": [
       "             Titel  Lyric  Artist\n",
       "Genres                           \n",
       "Country       4774   4774    4774\n",
       "Rock          4672   4672    4672\n",
       "Heavy Metal   4393   4394    4394\n",
       "Indie         4288   4289    4289\n",
       "Pop           2544   2544    2544"
      ]
     },
     "execution_count": 65,
     "metadata": {},
     "output_type": "execute_result"
    }
   ],
   "source": [
    "plot_df= single_genre_df.groupby(\"Genres\", axis=0).count().sort_values(by=\"Lyric\",ascending=False)\n",
    "plot_df.head()"
   ]
  },
  {
   "cell_type": "markdown",
   "metadata": {},
   "source": [
    "Sortieren nach den mit den meisten werten:"
   ]
  },
  {
   "cell_type": "code",
   "execution_count": 66,
   "metadata": {},
   "outputs": [],
   "source": [
    "\n",
    "# # Balkendiagramm erstellen\n",
    "# plt.figure(figsize=(10, 8))\n",
    "# plt.bar(df['Genres'], df['Lyric'], color='blue')\n",
    "# plt.xlabel('Genres')\n",
    "# plt.ylabel('Anzahl der Lyrics')\n",
    "# plt.title('Anzahl der Lyrics pro Genre')\n",
    "# plt.xticks(rotation=45)\n",
    "# plt.tight_layout()  # sorgt dafür, dass die Labels nicht abgeschnitten werden\n",
    "\n",
    "# # Diagramm anzeigen\n",
    "# plt.show()"
   ]
  },
  {
   "cell_type": "code",
   "execution_count": 67,
   "metadata": {},
   "outputs": [],
   "source": [
    "single_genre_df.to_csv(\"preprocessed_single_label.csv\")"
   ]
  },
  {
   "cell_type": "markdown",
   "metadata": {},
   "source": [
    "### Datensatz 2:"
   ]
  },
  {
   "cell_type": "markdown",
   "metadata": {},
   "source": [
    "Alle Songs die mehr als ein Genre zugeordnet sind, werden geteilt. Es wird pro Genre eine Copy angelegt (Datensatz 2)"
   ]
  },
  {
   "cell_type": "code",
   "execution_count": 68,
   "metadata": {},
   "outputs": [
    {
     "data": {
      "text/html": [
       "<div>\n",
       "<style scoped>\n",
       "    .dataframe tbody tr th:only-of-type {\n",
       "        vertical-align: middle;\n",
       "    }\n",
       "\n",
       "    .dataframe tbody tr th {\n",
       "        vertical-align: top;\n",
       "    }\n",
       "\n",
       "    .dataframe thead th {\n",
       "        text-align: right;\n",
       "    }\n",
       "</style>\n",
       "<table border=\"1\" class=\"dataframe\">\n",
       "  <thead>\n",
       "    <tr style=\"text-align: right;\">\n",
       "      <th></th>\n",
       "      <th>Titel</th>\n",
       "      <th>Lyric</th>\n",
       "      <th>Artist</th>\n",
       "      <th>Genres</th>\n",
       "    </tr>\n",
       "  </thead>\n",
       "  <tbody>\n",
       "    <tr>\n",
       "      <th>69</th>\n",
       "      <td>Careless Whisper</td>\n",
       "      <td>feel unsure take hand lead dance floor music d...</td>\n",
       "      <td>Ivete Sangalo</td>\n",
       "      <td>Pop</td>\n",
       "    </tr>\n",
       "    <tr>\n",
       "      <th>69</th>\n",
       "      <td>Careless Whisper</td>\n",
       "      <td>feel unsure take hand lead dance floor music d...</td>\n",
       "      <td>Ivete Sangalo</td>\n",
       "      <td>Axé</td>\n",
       "    </tr>\n",
       "    <tr>\n",
       "      <th>69</th>\n",
       "      <td>Careless Whisper</td>\n",
       "      <td>feel unsure take hand lead dance floor music d...</td>\n",
       "      <td>Ivete Sangalo</td>\n",
       "      <td>Romântico</td>\n",
       "    </tr>\n",
       "    <tr>\n",
       "      <th>86</th>\n",
       "      <td>Could You Be Loved / Citação Musical do Rap: S...</td>\n",
       "      <td>dont let fool ya even try school ya oh weve go...</td>\n",
       "      <td>Ivete Sangalo</td>\n",
       "      <td>Pop</td>\n",
       "    </tr>\n",
       "    <tr>\n",
       "      <th>86</th>\n",
       "      <td>Could You Be Loved / Citação Musical do Rap: S...</td>\n",
       "      <td>dont let fool ya even try school ya oh weve go...</td>\n",
       "      <td>Ivete Sangalo</td>\n",
       "      <td>Axé</td>\n",
       "    </tr>\n",
       "    <tr>\n",
       "      <th>...</th>\n",
       "      <td>...</td>\n",
       "      <td>...</td>\n",
       "      <td>...</td>\n",
       "      <td>...</td>\n",
       "    </tr>\n",
       "    <tr>\n",
       "      <th>378986</th>\n",
       "      <td>When The System Has Fallen</td>\n",
       "      <td>sweat heat days end waiting come hear words sp...</td>\n",
       "      <td>Johnny Clegg</td>\n",
       "      <td>Gospel</td>\n",
       "    </tr>\n",
       "    <tr>\n",
       "      <th>378986</th>\n",
       "      <td>When The System Has Fallen</td>\n",
       "      <td>sweat heat days end waiting come hear words sp...</td>\n",
       "      <td>Johnny Clegg</td>\n",
       "      <td>Religioso</td>\n",
       "    </tr>\n",
       "    <tr>\n",
       "      <th>378987</th>\n",
       "      <td>Woman Be My Country</td>\n",
       "      <td>stand edge day faces melting african rain many...</td>\n",
       "      <td>Johnny Clegg</td>\n",
       "      <td>WorldMusic</td>\n",
       "    </tr>\n",
       "    <tr>\n",
       "      <th>378987</th>\n",
       "      <td>Woman Be My Country</td>\n",
       "      <td>stand edge day faces melting african rain many...</td>\n",
       "      <td>Johnny Clegg</td>\n",
       "      <td>Gospel</td>\n",
       "    </tr>\n",
       "    <tr>\n",
       "      <th>378987</th>\n",
       "      <td>Woman Be My Country</td>\n",
       "      <td>stand edge day faces melting african rain many...</td>\n",
       "      <td>Johnny Clegg</td>\n",
       "      <td>Religioso</td>\n",
       "    </tr>\n",
       "  </tbody>\n",
       "</table>\n",
       "<p>481895 rows × 4 columns</p>\n",
       "</div>"
      ],
      "text/plain": [
       "                                                    Titel  \\\n",
       "69                                       Careless Whisper   \n",
       "69                                       Careless Whisper   \n",
       "69                                       Careless Whisper   \n",
       "86      Could You Be Loved / Citação Musical do Rap: S...   \n",
       "86      Could You Be Loved / Citação Musical do Rap: S...   \n",
       "...                                                   ...   \n",
       "378986                         When The System Has Fallen   \n",
       "378986                         When The System Has Fallen   \n",
       "378987                                Woman Be My Country   \n",
       "378987                                Woman Be My Country   \n",
       "378987                                Woman Be My Country   \n",
       "\n",
       "                                                    Lyric         Artist  \\\n",
       "69      feel unsure take hand lead dance floor music d...  Ivete Sangalo   \n",
       "69      feel unsure take hand lead dance floor music d...  Ivete Sangalo   \n",
       "69      feel unsure take hand lead dance floor music d...  Ivete Sangalo   \n",
       "86      dont let fool ya even try school ya oh weve go...  Ivete Sangalo   \n",
       "86      dont let fool ya even try school ya oh weve go...  Ivete Sangalo   \n",
       "...                                                   ...            ...   \n",
       "378986  sweat heat days end waiting come hear words sp...   Johnny Clegg   \n",
       "378986  sweat heat days end waiting come hear words sp...   Johnny Clegg   \n",
       "378987  stand edge day faces melting african rain many...   Johnny Clegg   \n",
       "378987  stand edge day faces melting african rain many...   Johnny Clegg   \n",
       "378987  stand edge day faces melting african rain many...   Johnny Clegg   \n",
       "\n",
       "            Genres  \n",
       "69             Pop  \n",
       "69             Axé  \n",
       "69       Romântico  \n",
       "86             Pop  \n",
       "86             Axé  \n",
       "...            ...  \n",
       "378986      Gospel  \n",
       "378986   Religioso  \n",
       "378987  WorldMusic  \n",
       "378987      Gospel  \n",
       "378987   Religioso  \n",
       "\n",
       "[481895 rows x 4 columns]"
      ]
     },
     "execution_count": 68,
     "metadata": {},
     "output_type": "execute_result"
    }
   ],
   "source": [
    "split_genre_df = df.copy()\n",
    "split_genre_df['Genres'] = split_genre_df['Genres'].str.split(';')\n",
    "split_genre_df = split_genre_df.explode('Genres')\n",
    "split_genre_df['Genres'] = split_genre_df['Genres'].str.split('/')\n",
    "split_genre_df = split_genre_df.explode('Genres')\n",
    "split_genre_df['Genres'] = split_genre_df['Genres'].str.replace(' ', '', regex=False)\n",
    "\n",
    "split_genre_df"
   ]
  },
  {
   "cell_type": "code",
   "execution_count": 69,
   "metadata": {},
   "outputs": [
    {
     "data": {
      "text/plain": [
       "Genres\n",
       "Rock            90077\n",
       "Pop             62970\n",
       "HeavyMetal      21759\n",
       "HipHop          20902\n",
       "Indie           20134\n",
       "                ...  \n",
       "Pagode             29\n",
       "Forró              18\n",
       "Kizomba             7\n",
       "ElectroSwing        6\n",
       "Regional            2\n",
       "Name: count, Length: 77, dtype: int64"
      ]
     },
     "execution_count": 69,
     "metadata": {},
     "output_type": "execute_result"
    }
   ],
   "source": [
    "split_genre_df[\"Genres\"].value_counts()"
   ]
  },
  {
   "cell_type": "code",
   "execution_count": 70,
   "metadata": {},
   "outputs": [
    {
     "name": "stderr",
     "output_type": "stream",
     "text": [
      "C:\\Users\\Ivan\\AppData\\Local\\Temp\\ipykernel_737472\\1128390826.py:1: FutureWarning: The 'axis' keyword in DataFrame.groupby is deprecated and will be removed in a future version.\n",
      "  plot_df2= split_genre_df.groupby(\"Genres\", axis=0).count().sort_values(by=\"Lyric\",ascending=False)\n"
     ]
    },
    {
     "data": {
      "text/html": [
       "<div>\n",
       "<style scoped>\n",
       "    .dataframe tbody tr th:only-of-type {\n",
       "        vertical-align: middle;\n",
       "    }\n",
       "\n",
       "    .dataframe tbody tr th {\n",
       "        vertical-align: top;\n",
       "    }\n",
       "\n",
       "    .dataframe thead th {\n",
       "        text-align: right;\n",
       "    }\n",
       "</style>\n",
       "<table border=\"1\" class=\"dataframe\">\n",
       "  <thead>\n",
       "    <tr style=\"text-align: right;\">\n",
       "      <th></th>\n",
       "      <th>Titel</th>\n",
       "      <th>Lyric</th>\n",
       "      <th>Artist</th>\n",
       "    </tr>\n",
       "    <tr>\n",
       "      <th>Genres</th>\n",
       "      <th></th>\n",
       "      <th></th>\n",
       "      <th></th>\n",
       "    </tr>\n",
       "  </thead>\n",
       "  <tbody>\n",
       "    <tr>\n",
       "      <th>Rock</th>\n",
       "      <td>90077</td>\n",
       "      <td>90077</td>\n",
       "      <td>90077</td>\n",
       "    </tr>\n",
       "    <tr>\n",
       "      <th>Pop</th>\n",
       "      <td>62970</td>\n",
       "      <td>62970</td>\n",
       "      <td>62970</td>\n",
       "    </tr>\n",
       "    <tr>\n",
       "      <th>HeavyMetal</th>\n",
       "      <td>21758</td>\n",
       "      <td>21759</td>\n",
       "      <td>21759</td>\n",
       "    </tr>\n",
       "    <tr>\n",
       "      <th>HipHop</th>\n",
       "      <td>20902</td>\n",
       "      <td>20902</td>\n",
       "      <td>20902</td>\n",
       "    </tr>\n",
       "    <tr>\n",
       "      <th>Indie</th>\n",
       "      <td>20133</td>\n",
       "      <td>20134</td>\n",
       "      <td>20134</td>\n",
       "    </tr>\n",
       "  </tbody>\n",
       "</table>\n",
       "</div>"
      ],
      "text/plain": [
       "            Titel  Lyric  Artist\n",
       "Genres                          \n",
       "Rock        90077  90077   90077\n",
       "Pop         62970  62970   62970\n",
       "HeavyMetal  21758  21759   21759\n",
       "HipHop      20902  20902   20902\n",
       "Indie       20133  20134   20134"
      ]
     },
     "execution_count": 70,
     "metadata": {},
     "output_type": "execute_result"
    }
   ],
   "source": [
    "plot_df2= split_genre_df.groupby(\"Genres\", axis=0).count().sort_values(by=\"Lyric\",ascending=False)\n",
    "plot_df2.head()"
   ]
  },
  {
   "cell_type": "code",
   "execution_count": 71,
   "metadata": {},
   "outputs": [],
   "source": [
    "split_genre_df.to_csv(\"preprocessed_split_label.csv\")"
   ]
  }
 ],
 "metadata": {
  "kernelspec": {
   "display_name": "Python 3",
   "language": "python",
   "name": "python3"
  },
  "language_info": {
   "codemirror_mode": {
    "name": "ipython",
    "version": 3
   },
   "file_extension": ".py",
   "mimetype": "text/x-python",
   "name": "python",
   "nbconvert_exporter": "python",
   "pygments_lexer": "ipython3",
   "version": "3.12.2"
  }
 },
 "nbformat": 4,
 "nbformat_minor": 2
}